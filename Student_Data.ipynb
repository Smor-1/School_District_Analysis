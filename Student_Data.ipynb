{
 "cells": [
  {
   "cell_type": "code",
   "execution_count": 12,
   "id": "d08102a7",
   "metadata": {},
   "outputs": [],
   "source": [
    "import pandas as pd"
   ]
  },
  {
   "cell_type": "code",
   "execution_count": 13,
   "id": "04cad8e1",
   "metadata": {},
   "outputs": [],
   "source": [
    "student_df = pd.read_csv(\"new_student_data.csv\")"
   ]
  },
  {
   "cell_type": "code",
   "execution_count": 14,
   "id": "7a7079c4",
   "metadata": {},
   "outputs": [
    {
     "data": {
      "text/html": [
       "<div>\n",
       "<style scoped>\n",
       "    .dataframe tbody tr th:only-of-type {\n",
       "        vertical-align: middle;\n",
       "    }\n",
       "\n",
       "    .dataframe tbody tr th {\n",
       "        vertical-align: top;\n",
       "    }\n",
       "\n",
       "    .dataframe thead th {\n",
       "        text-align: right;\n",
       "    }\n",
       "</style>\n",
       "<table border=\"1\" class=\"dataframe\">\n",
       "  <thead>\n",
       "    <tr style=\"text-align: right;\">\n",
       "      <th></th>\n",
       "      <th>student_id</th>\n",
       "      <th>student_name</th>\n",
       "      <th>grade</th>\n",
       "      <th>school_name</th>\n",
       "      <th>reading_score</th>\n",
       "      <th>math_score</th>\n",
       "      <th>school_type</th>\n",
       "    </tr>\n",
       "  </thead>\n",
       "  <tbody>\n",
       "    <tr>\n",
       "      <th>0</th>\n",
       "      <td>127008367</td>\n",
       "      <td>Sarah Douglas</td>\n",
       "      <td>11th</td>\n",
       "      <td>Chang High School</td>\n",
       "      <td>87.2</td>\n",
       "      <td>64.1</td>\n",
       "      <td>Public</td>\n",
       "    </tr>\n",
       "    <tr>\n",
       "      <th>1</th>\n",
       "      <td>33365505</td>\n",
       "      <td>Francisco Osborne</td>\n",
       "      <td>9th</td>\n",
       "      <td>Fisher High School</td>\n",
       "      <td>NaN</td>\n",
       "      <td>NaN</td>\n",
       "      <td>Public</td>\n",
       "    </tr>\n",
       "    <tr>\n",
       "      <th>2</th>\n",
       "      <td>44359500</td>\n",
       "      <td>Ryan Haas</td>\n",
       "      <td>12th</td>\n",
       "      <td>Campbell High School</td>\n",
       "      <td>91.6</td>\n",
       "      <td>54.7</td>\n",
       "      <td>Public</td>\n",
       "    </tr>\n",
       "    <tr>\n",
       "      <th>3</th>\n",
       "      <td>24791243</td>\n",
       "      <td>Kathryn Mack</td>\n",
       "      <td>11th</td>\n",
       "      <td>Richard High School</td>\n",
       "      <td>68.9</td>\n",
       "      <td>73.3</td>\n",
       "      <td>Charter</td>\n",
       "    </tr>\n",
       "    <tr>\n",
       "      <th>4</th>\n",
       "      <td>121467881</td>\n",
       "      <td>Harold Reynolds</td>\n",
       "      <td>12th</td>\n",
       "      <td>Chang High School</td>\n",
       "      <td>68.7</td>\n",
       "      <td>43.4</td>\n",
       "      <td>Public</td>\n",
       "    </tr>\n",
       "  </tbody>\n",
       "</table>\n",
       "</div>"
      ],
      "text/plain": [
       "   student_id       student_name grade           school_name  reading_score  \\\n",
       "0   127008367      Sarah Douglas  11th     Chang High School           87.2   \n",
       "1    33365505  Francisco Osborne   9th    Fisher High School            NaN   \n",
       "2    44359500          Ryan Haas  12th  Campbell High School           91.6   \n",
       "3    24791243       Kathryn Mack  11th   Richard High School           68.9   \n",
       "4   121467881    Harold Reynolds  12th     Chang High School           68.7   \n",
       "\n",
       "   math_score school_type  \n",
       "0        64.1      Public  \n",
       "1         NaN      Public  \n",
       "2        54.7      Public  \n",
       "3        73.3     Charter  \n",
       "4        43.4      Public  "
      ]
     },
     "execution_count": 14,
     "metadata": {},
     "output_type": "execute_result"
    }
   ],
   "source": [
    "#returns the first or last 5 values in this df \n",
    "student_df.head()\n",
    "#student_df.tail()"
   ]
  },
  {
   "cell_type": "code",
   "execution_count": 16,
   "id": "9dc0ceb9",
   "metadata": {},
   "outputs": [
    {
     "data": {
      "text/plain": [
       "0    127008367\n",
       "1     33365505\n",
       "2     44359500\n",
       "3     24791243\n",
       "4    121467881\n",
       "Name: student_id, dtype: int64"
      ]
     },
     "execution_count": 16,
     "metadata": {},
     "output_type": "execute_result"
    }
   ],
   "source": [
    "#returns the first 5 values from the student id column! \n",
    "student_df[\"student_id\"].head()"
   ]
  },
  {
   "cell_type": "code",
   "execution_count": 22,
   "id": "6c06a57a",
   "metadata": {},
   "outputs": [
    {
     "data": {
      "text/plain": [
       "student_id        0.000000\n",
       "student_name      0.000000\n",
       "grade             0.000000\n",
       "school_name       0.000000\n",
       "reading_score    10.143472\n",
       "math_score        5.057389\n",
       "school_type       0.000000\n",
       "dtype: float64"
      ]
     },
     "execution_count": 22,
     "metadata": {},
     "output_type": "execute_result"
    }
   ],
   "source": [
    "#this will return how much missing data we have AND in which columns too or for the mean call what % of data is missing\n",
    "#student_df.isnull().sum()\n",
    "student_df.isnull().mean()*100"
   ]
  },
  {
   "cell_type": "code",
   "execution_count": 23,
   "id": "f300c250",
   "metadata": {},
   "outputs": [],
   "source": [
    "#example for dealing with missing data\n",
    "\n",
    "import pandas as pd\n",
    "import numpy as np\n",
    "daily_returns = pd.DataFrame({\n",
    "    \"AAPL\": [0.5, np.nan, 0.62],\n",
    "    \"GOOG\": [0.45, 0.63, 0.55]\n",
    "})"
   ]
  },
  {
   "cell_type": "code",
   "execution_count": 99,
   "id": "83ac9bba",
   "metadata": {},
   "outputs": [
    {
     "data": {
      "text/plain": [
       "AAPL    1\n",
       "GOOG    0\n",
       "dtype: int64"
      ]
     },
     "execution_count": 99,
     "metadata": {},
     "output_type": "execute_result"
    }
   ],
   "source": [
    "daily_returns.isna().sum()"
   ]
  },
  {
   "cell_type": "code",
   "execution_count": 25,
   "id": "9e0265a6",
   "metadata": {},
   "outputs": [
    {
     "data": {
      "text/html": [
       "<div>\n",
       "<style scoped>\n",
       "    .dataframe tbody tr th:only-of-type {\n",
       "        vertical-align: middle;\n",
       "    }\n",
       "\n",
       "    .dataframe tbody tr th {\n",
       "        vertical-align: top;\n",
       "    }\n",
       "\n",
       "    .dataframe thead th {\n",
       "        text-align: right;\n",
       "    }\n",
       "</style>\n",
       "<table border=\"1\" class=\"dataframe\">\n",
       "  <thead>\n",
       "    <tr style=\"text-align: right;\">\n",
       "      <th></th>\n",
       "      <th>AAPL</th>\n",
       "      <th>GOOG</th>\n",
       "    </tr>\n",
       "  </thead>\n",
       "  <tbody>\n",
       "    <tr>\n",
       "      <th>0</th>\n",
       "      <td>0.50</td>\n",
       "      <td>0.45</td>\n",
       "    </tr>\n",
       "    <tr>\n",
       "      <th>2</th>\n",
       "      <td>0.62</td>\n",
       "      <td>0.55</td>\n",
       "    </tr>\n",
       "  </tbody>\n",
       "</table>\n",
       "</div>"
      ],
      "text/plain": [
       "   AAPL  GOOG\n",
       "0  0.50  0.45\n",
       "2  0.62  0.55"
      ]
     },
     "execution_count": 25,
     "metadata": {},
     "output_type": "execute_result"
    }
   ],
   "source": [
    "daily_returns.dropna()"
   ]
  },
  {
   "cell_type": "code",
   "execution_count": 27,
   "id": "62f37daf",
   "metadata": {},
   "outputs": [
    {
     "data": {
      "text/html": [
       "<div>\n",
       "<style scoped>\n",
       "    .dataframe tbody tr th:only-of-type {\n",
       "        vertical-align: middle;\n",
       "    }\n",
       "\n",
       "    .dataframe tbody tr th {\n",
       "        vertical-align: top;\n",
       "    }\n",
       "\n",
       "    .dataframe thead th {\n",
       "        text-align: right;\n",
       "    }\n",
       "</style>\n",
       "<table border=\"1\" class=\"dataframe\">\n",
       "  <thead>\n",
       "    <tr style=\"text-align: right;\">\n",
       "      <th></th>\n",
       "      <th>AAPL</th>\n",
       "      <th>GOOG</th>\n",
       "    </tr>\n",
       "  </thead>\n",
       "  <tbody>\n",
       "    <tr>\n",
       "      <th>0</th>\n",
       "      <td>0.5</td>\n",
       "      <td>0.45</td>\n",
       "    </tr>\n",
       "    <tr>\n",
       "      <th>1</th>\n",
       "      <td>Unknown</td>\n",
       "      <td>0.63</td>\n",
       "    </tr>\n",
       "    <tr>\n",
       "      <th>2</th>\n",
       "      <td>0.62</td>\n",
       "      <td>0.55</td>\n",
       "    </tr>\n",
       "  </tbody>\n",
       "</table>\n",
       "</div>"
      ],
      "text/plain": [
       "      AAPL  GOOG\n",
       "0      0.5  0.45\n",
       "1  Unknown  0.63\n",
       "2     0.62  0.55"
      ]
     },
     "execution_count": 27,
     "metadata": {},
     "output_type": "execute_result"
    }
   ],
   "source": [
    "daily_returns.fillna(\"Unknown\")"
   ]
  },
  {
   "cell_type": "code",
   "execution_count": 28,
   "id": "a3d7a622",
   "metadata": {},
   "outputs": [
    {
     "data": {
      "text/html": [
       "<div>\n",
       "<style scoped>\n",
       "    .dataframe tbody tr th:only-of-type {\n",
       "        vertical-align: middle;\n",
       "    }\n",
       "\n",
       "    .dataframe tbody tr th {\n",
       "        vertical-align: top;\n",
       "    }\n",
       "\n",
       "    .dataframe thead th {\n",
       "        text-align: right;\n",
       "    }\n",
       "</style>\n",
       "<table border=\"1\" class=\"dataframe\">\n",
       "  <thead>\n",
       "    <tr style=\"text-align: right;\">\n",
       "      <th></th>\n",
       "      <th>AAPL</th>\n",
       "      <th>GOOG</th>\n",
       "    </tr>\n",
       "  </thead>\n",
       "  <tbody>\n",
       "    <tr>\n",
       "      <th>0</th>\n",
       "      <td>0.50</td>\n",
       "      <td>0.45</td>\n",
       "    </tr>\n",
       "    <tr>\n",
       "      <th>1</th>\n",
       "      <td>0.00</td>\n",
       "      <td>0.63</td>\n",
       "    </tr>\n",
       "    <tr>\n",
       "      <th>2</th>\n",
       "      <td>0.62</td>\n",
       "      <td>0.55</td>\n",
       "    </tr>\n",
       "  </tbody>\n",
       "</table>\n",
       "</div>"
      ],
      "text/plain": [
       "   AAPL  GOOG\n",
       "0  0.50  0.45\n",
       "1  0.00  0.63\n",
       "2  0.62  0.55"
      ]
     },
     "execution_count": 28,
     "metadata": {},
     "output_type": "execute_result"
    }
   ],
   "source": [
    "daily_returns.fillna(0)"
   ]
  },
  {
   "cell_type": "code",
   "execution_count": 32,
   "id": "018acf9e",
   "metadata": {},
   "outputs": [
    {
     "data": {
      "text/html": [
       "<div>\n",
       "<style scoped>\n",
       "    .dataframe tbody tr th:only-of-type {\n",
       "        vertical-align: middle;\n",
       "    }\n",
       "\n",
       "    .dataframe tbody tr th {\n",
       "        vertical-align: top;\n",
       "    }\n",
       "\n",
       "    .dataframe thead th {\n",
       "        text-align: right;\n",
       "    }\n",
       "</style>\n",
       "<table border=\"1\" class=\"dataframe\">\n",
       "  <thead>\n",
       "    <tr style=\"text-align: right;\">\n",
       "      <th></th>\n",
       "      <th>AAPL</th>\n",
       "      <th>GOOG</th>\n",
       "    </tr>\n",
       "  </thead>\n",
       "  <tbody>\n",
       "    <tr>\n",
       "      <th>0</th>\n",
       "      <td>0.50</td>\n",
       "      <td>0.45</td>\n",
       "    </tr>\n",
       "    <tr>\n",
       "      <th>1</th>\n",
       "      <td>0.56</td>\n",
       "      <td>0.63</td>\n",
       "    </tr>\n",
       "    <tr>\n",
       "      <th>2</th>\n",
       "      <td>0.62</td>\n",
       "      <td>0.55</td>\n",
       "    </tr>\n",
       "  </tbody>\n",
       "</table>\n",
       "</div>"
      ],
      "text/plain": [
       "   AAPL  GOOG\n",
       "0  0.50  0.45\n",
       "1  0.56  0.63\n",
       "2  0.62  0.55"
      ]
     },
     "execution_count": 32,
     "metadata": {},
     "output_type": "execute_result"
    }
   ],
   "source": [
    "#returns 0.56 which is the average of 0.5 and 0.62\n",
    "daily_returns.fillna(daily_returns[\"AAPL\"].mean())"
   ]
  },
  {
   "cell_type": "code",
   "execution_count": 33,
   "id": "d9a78818",
   "metadata": {},
   "outputs": [
    {
     "data": {
      "text/html": [
       "<div>\n",
       "<style scoped>\n",
       "    .dataframe tbody tr th:only-of-type {\n",
       "        vertical-align: middle;\n",
       "    }\n",
       "\n",
       "    .dataframe tbody tr th {\n",
       "        vertical-align: top;\n",
       "    }\n",
       "\n",
       "    .dataframe thead th {\n",
       "        text-align: right;\n",
       "    }\n",
       "</style>\n",
       "<table border=\"1\" class=\"dataframe\">\n",
       "  <thead>\n",
       "    <tr style=\"text-align: right;\">\n",
       "      <th></th>\n",
       "      <th>Best Actors</th>\n",
       "    </tr>\n",
       "  </thead>\n",
       "  <tbody>\n",
       "    <tr>\n",
       "      <th>0</th>\n",
       "      <td>Nic Cage</td>\n",
       "    </tr>\n",
       "    <tr>\n",
       "      <th>1</th>\n",
       "      <td>Nic Cage</td>\n",
       "    </tr>\n",
       "    <tr>\n",
       "      <th>2</th>\n",
       "      <td>Harrison Ford</td>\n",
       "    </tr>\n",
       "  </tbody>\n",
       "</table>\n",
       "</div>"
      ],
      "text/plain": [
       "     Best Actors\n",
       "0       Nic Cage\n",
       "1       Nic Cage\n",
       "2  Harrison Ford"
      ]
     },
     "execution_count": 33,
     "metadata": {},
     "output_type": "execute_result"
    }
   ],
   "source": [
    "import pandas as pd\n",
    "best_actors_df = pd.DataFrame({\n",
    "    \"Best Actors\": [\"Nic Cage\", \"Nic Cage\", \"Harrison Ford\"]\n",
    "})\n",
    "best_actors_df"
   ]
  },
  {
   "cell_type": "code",
   "execution_count": 36,
   "id": "fd6c5f06",
   "metadata": {},
   "outputs": [
    {
     "data": {
      "text/plain": [
       "0    False\n",
       "1     True\n",
       "2    False\n",
       "dtype: bool"
      ]
     },
     "execution_count": 36,
     "metadata": {},
     "output_type": "execute_result"
    }
   ],
   "source": [
    "#returns True at row 1 \n",
    "best_actors_df.duplicated()"
   ]
  },
  {
   "cell_type": "code",
   "execution_count": 37,
   "id": "33a6312f",
   "metadata": {},
   "outputs": [
    {
     "data": {
      "text/html": [
       "<div>\n",
       "<style scoped>\n",
       "    .dataframe tbody tr th:only-of-type {\n",
       "        vertical-align: middle;\n",
       "    }\n",
       "\n",
       "    .dataframe tbody tr th {\n",
       "        vertical-align: top;\n",
       "    }\n",
       "\n",
       "    .dataframe thead th {\n",
       "        text-align: right;\n",
       "    }\n",
       "</style>\n",
       "<table border=\"1\" class=\"dataframe\">\n",
       "  <thead>\n",
       "    <tr style=\"text-align: right;\">\n",
       "      <th></th>\n",
       "      <th>Best Actors</th>\n",
       "    </tr>\n",
       "  </thead>\n",
       "  <tbody>\n",
       "    <tr>\n",
       "      <th>0</th>\n",
       "      <td>Nic Cage</td>\n",
       "    </tr>\n",
       "    <tr>\n",
       "      <th>2</th>\n",
       "      <td>Harrison Ford</td>\n",
       "    </tr>\n",
       "  </tbody>\n",
       "</table>\n",
       "</div>"
      ],
      "text/plain": [
       "     Best Actors\n",
       "0       Nic Cage\n",
       "2  Harrison Ford"
      ]
     },
     "execution_count": 37,
     "metadata": {},
     "output_type": "execute_result"
    }
   ],
   "source": [
    "best_actors_df.drop_duplicates()"
   ]
  },
  {
   "cell_type": "code",
   "execution_count": 84,
   "id": "062aee10",
   "metadata": {},
   "outputs": [
    {
     "data": {
      "text/html": [
       "<div>\n",
       "<style scoped>\n",
       "    .dataframe tbody tr th:only-of-type {\n",
       "        vertical-align: middle;\n",
       "    }\n",
       "\n",
       "    .dataframe tbody tr th {\n",
       "        vertical-align: top;\n",
       "    }\n",
       "\n",
       "    .dataframe thead th {\n",
       "        text-align: right;\n",
       "    }\n",
       "</style>\n",
       "<table border=\"1\" class=\"dataframe\">\n",
       "  <thead>\n",
       "    <tr style=\"text-align: right;\">\n",
       "      <th></th>\n",
       "      <th>price_usd</th>\n",
       "    </tr>\n",
       "  </thead>\n",
       "  <tbody>\n",
       "    <tr>\n",
       "      <th>0</th>\n",
       "      <td>$0.53</td>\n",
       "    </tr>\n",
       "    <tr>\n",
       "      <th>1</th>\n",
       "      <td>$0.22</td>\n",
       "    </tr>\n",
       "    <tr>\n",
       "      <th>2</th>\n",
       "      <td>0.34</td>\n",
       "    </tr>\n",
       "  </tbody>\n",
       "</table>\n",
       "</div>"
      ],
      "text/plain": [
       "  price_usd\n",
       "0     $0.53\n",
       "1     $0.22\n",
       "2      0.34"
      ]
     },
     "execution_count": 84,
     "metadata": {},
     "output_type": "execute_result"
    }
   ],
   "source": [
    "import pandas as pd\n",
    "\n",
    "prices = pd.DataFrame({\n",
    "    \"price_usd\": [\"$0.53\", \"$0.22\", \"0.34\"]\n",
    "})\n",
    "prices"
   ]
  },
  {
   "cell_type": "code",
   "execution_count": 85,
   "id": "c9b888fa",
   "metadata": {},
   "outputs": [
    {
     "data": {
      "text/plain": [
       "price_usd    object\n",
       "dtype: object"
      ]
     },
     "execution_count": 85,
     "metadata": {},
     "output_type": "execute_result"
    }
   ],
   "source": [
    "#returns $0.22 twice...so need it to not be a string, dtypes returns object, meaning string, so can't do math on it\n",
    "prices.dtypes\n",
    "#prices[\"price_usd\"][1]*2"
   ]
  },
  {
   "cell_type": "code",
   "execution_count": 86,
   "id": "15c3a11e",
   "metadata": {},
   "outputs": [
    {
     "name": "stderr",
     "output_type": "stream",
     "text": [
      "/var/folders/9m/xp265wv97bl6mhlqzr9f1wcr0000gn/T/ipykernel_68652/822049967.py:1: FutureWarning: The default value of regex will change from True to False in a future version. In addition, single character regular expressions will *not* be treated as literal strings when regex=True.\n",
      "  prices.loc[0:,\"price_usd\"] = prices.loc[0:,\"price_usd\"].str.replace(\"$\" , \"\")\n"
     ]
    },
    {
     "data": {
      "text/plain": [
       "price_usd    object\n",
       "dtype: object"
      ]
     },
     "execution_count": 86,
     "metadata": {},
     "output_type": "execute_result"
    }
   ],
   "source": [
    "prices.loc[0:,\"price_usd\"] = prices.loc[0:,\"price_usd\"].str.replace(\"$\" , \"\")\n",
    "#so no longer dollar signs infront here, but the data type is still an object! So use .astype()\n",
    "prices.dtypes"
   ]
  },
  {
   "cell_type": "code",
   "execution_count": 94,
   "id": "0005e7de",
   "metadata": {},
   "outputs": [],
   "source": [
    "prices.loc[0:, \"price_usd\"] = prices.loc[0:, \"price_usd\"].astype(\"float\")"
   ]
  },
  {
   "cell_type": "code",
   "execution_count": 96,
   "id": "1b582ebd",
   "metadata": {},
   "outputs": [
    {
     "data": {
      "text/plain": [
       "0.44"
      ]
     },
     "execution_count": 96,
     "metadata": {},
     "output_type": "execute_result"
    }
   ],
   "source": [
    "#now it will return 0.44!!!! \n",
    "prices[\"price_usd\"][1]*2"
   ]
  },
  {
   "cell_type": "code",
   "execution_count": null,
   "id": "15d3d053",
   "metadata": {},
   "outputs": [],
   "source": [
    "    "
   ]
  },
  {
   "cell_type": "code",
   "execution_count": 104,
   "id": "b0cdbf13",
   "metadata": {},
   "outputs": [],
   "source": [
    "student_df = student_df.dropna()"
   ]
  },
  {
   "cell_type": "code",
   "execution_count": 113,
   "id": "be988f74",
   "metadata": {},
   "outputs": [
    {
     "data": {
      "text/plain": [
       "0"
      ]
     },
     "execution_count": 113,
     "metadata": {},
     "output_type": "execute_result"
    }
   ],
   "source": [
    "student_df = student_df.drop_duplicates()\n",
    "#student_df.duplicated().sum() will return 0"
   ]
  },
  {
   "cell_type": "code",
   "execution_count": 114,
   "id": "fe4a1a72",
   "metadata": {},
   "outputs": [
    {
     "data": {
      "text/plain": [
       "student_id         int64\n",
       "student_name      object\n",
       "grade             object\n",
       "school_name       object\n",
       "reading_score    float64\n",
       "math_score       float64\n",
       "school_type       object\n",
       "dtype: object"
      ]
     },
     "execution_count": 114,
     "metadata": {},
     "output_type": "execute_result"
    }
   ],
   "source": [
    "student_df.dtypes\n",
    "#returns that grade is an object"
   ]
  },
  {
   "cell_type": "code",
   "execution_count": 116,
   "id": "77db5a5a",
   "metadata": {},
   "outputs": [
    {
     "data": {
      "text/plain": [
       "0    11th\n",
       "2    12th\n",
       "3    11th\n",
       "4    12th\n",
       "5     9th\n",
       "Name: grade, dtype: object"
      ]
     },
     "execution_count": 116,
     "metadata": {},
     "output_type": "execute_result"
    }
   ],
   "source": [
    "student_df[\"grade\"].head()\n",
    "#this column has 11th rather than 11 by itself so lets get rid of the th "
   ]
  },
  {
   "cell_type": "code",
   "execution_count": 118,
   "id": "ff953b5b",
   "metadata": {},
   "outputs": [],
   "source": [
    "student_df.loc[:,\"grade\"] = student_df.loc[:,\"grade\"].str.replace(\"th\" , \"\") "
   ]
  },
  {
   "cell_type": "code",
   "execution_count": 120,
   "id": "b2a6ae06",
   "metadata": {},
   "outputs": [
    {
     "data": {
      "text/plain": [
       "student_id         int64\n",
       "student_name      object\n",
       "grade             object\n",
       "school_name       object\n",
       "reading_score    float64\n",
       "math_score       float64\n",
       "school_type       object\n",
       "dtype: object"
      ]
     },
     "execution_count": 120,
     "metadata": {},
     "output_type": "execute_result"
    }
   ],
   "source": [
    "#grade is still an object so lets convert it to an integer \n",
    "student_df.dtypes"
   ]
  },
  {
   "cell_type": "code",
   "execution_count": 121,
   "id": "67a39b04",
   "metadata": {},
   "outputs": [
    {
     "name": "stderr",
     "output_type": "stream",
     "text": [
      "/var/folders/9m/xp265wv97bl6mhlqzr9f1wcr0000gn/T/ipykernel_68652/4256893749.py:1: FutureWarning: In a future version, `df.iloc[:, i] = newvals` will attempt to set the values inplace instead of always setting a new array. To retain the old behavior, use either `df[df.columns[i]] = newvals` or, if columns are non-unique, `df.isetitem(i, newvals)`\n",
      "  student_df.loc[:,\"grade\"] = student_df.loc[:,\"grade\"].astype(\"int\")\n"
     ]
    }
   ],
   "source": [
    "student_df.loc[:,\"grade\"] = student_df.loc[:,\"grade\"].astype(\"int\")"
   ]
  },
  {
   "cell_type": "code",
   "execution_count": 126,
   "id": "fa76bc55",
   "metadata": {},
   "outputs": [
    {
     "data": {
      "text/html": [
       "<div>\n",
       "<style scoped>\n",
       "    .dataframe tbody tr th:only-of-type {\n",
       "        vertical-align: middle;\n",
       "    }\n",
       "\n",
       "    .dataframe tbody tr th {\n",
       "        vertical-align: top;\n",
       "    }\n",
       "\n",
       "    .dataframe thead th {\n",
       "        text-align: right;\n",
       "    }\n",
       "</style>\n",
       "<table border=\"1\" class=\"dataframe\">\n",
       "  <thead>\n",
       "    <tr style=\"text-align: right;\">\n",
       "      <th></th>\n",
       "      <th>item</th>\n",
       "      <th>quantity</th>\n",
       "      <th>total_price</th>\n",
       "    </tr>\n",
       "  </thead>\n",
       "  <tbody>\n",
       "    <tr>\n",
       "      <th>0</th>\n",
       "      <td>tomatoes</td>\n",
       "      <td>15</td>\n",
       "      <td>50.25</td>\n",
       "    </tr>\n",
       "    <tr>\n",
       "      <th>1</th>\n",
       "      <td>onions</td>\n",
       "      <td>26</td>\n",
       "      <td>39.52</td>\n",
       "    </tr>\n",
       "    <tr>\n",
       "      <th>2</th>\n",
       "      <td>potatoes</td>\n",
       "      <td>10</td>\n",
       "      <td>50.01</td>\n",
       "    </tr>\n",
       "    <tr>\n",
       "      <th>3</th>\n",
       "      <td>tomatoes</td>\n",
       "      <td>12</td>\n",
       "      <td>40.20</td>\n",
       "    </tr>\n",
       "    <tr>\n",
       "      <th>4</th>\n",
       "      <td>mushrooms</td>\n",
       "      <td>2</td>\n",
       "      <td>8.46</td>\n",
       "    </tr>\n",
       "  </tbody>\n",
       "</table>\n",
       "</div>"
      ],
      "text/plain": [
       "        item  quantity  total_price\n",
       "0   tomatoes        15        50.25\n",
       "1     onions        26        39.52\n",
       "2   potatoes        10        50.01\n",
       "3   tomatoes        12        40.20\n",
       "4  mushrooms         2         8.46"
      ]
     },
     "execution_count": 126,
     "metadata": {},
     "output_type": "execute_result"
    }
   ],
   "source": [
    "sales_df = pd.DataFrame({\"item\": [\"tomatoes\", \"onions\", \"potatoes\", \"tomatoes\", \"mushrooms\"],\n",
    "                \"quantity\": [15, 26, 10, 12, 2],\n",
    "                \"total_price\": [50.25, 39.52, 50.01, 40.20, 8.46]})\n",
    "sales_df.head()"
   ]
  },
  {
   "cell_type": "code",
   "execution_count": 128,
   "id": "aabc78fd",
   "metadata": {},
   "outputs": [
    {
     "data": {
      "text/plain": [
       "count     5.000000\n",
       "mean     37.688000\n",
       "std      17.128761\n",
       "min       8.460000\n",
       "25%      39.520000\n",
       "50%      40.200000\n",
       "75%      50.010000\n",
       "max      50.250000\n",
       "Name: total_price, dtype: float64"
      ]
     },
     "execution_count": 128,
     "metadata": {},
     "output_type": "execute_result"
    }
   ],
   "source": [
    "sales_df[\"total_price\"].describe()"
   ]
  },
  {
   "cell_type": "code",
   "execution_count": 129,
   "id": "c6e5ef90",
   "metadata": {},
   "outputs": [
    {
     "data": {
      "text/html": [
       "<div>\n",
       "<style scoped>\n",
       "    .dataframe tbody tr th:only-of-type {\n",
       "        vertical-align: middle;\n",
       "    }\n",
       "\n",
       "    .dataframe tbody tr th {\n",
       "        vertical-align: top;\n",
       "    }\n",
       "\n",
       "    .dataframe thead th {\n",
       "        text-align: right;\n",
       "    }\n",
       "</style>\n",
       "<table border=\"1\" class=\"dataframe\">\n",
       "  <thead>\n",
       "    <tr style=\"text-align: right;\">\n",
       "      <th></th>\n",
       "      <th>AAPL</th>\n",
       "    </tr>\n",
       "  </thead>\n",
       "  <tbody>\n",
       "    <tr>\n",
       "      <th>count</th>\n",
       "      <td>13.000000</td>\n",
       "    </tr>\n",
       "    <tr>\n",
       "      <th>mean</th>\n",
       "      <td>1142.775385</td>\n",
       "    </tr>\n",
       "    <tr>\n",
       "      <th>std</th>\n",
       "      <td>76.556568</td>\n",
       "    </tr>\n",
       "    <tr>\n",
       "      <th>min</th>\n",
       "      <td>1003.630000</td>\n",
       "    </tr>\n",
       "    <tr>\n",
       "      <th>25%</th>\n",
       "      <td>1080.910000</td>\n",
       "    </tr>\n",
       "    <tr>\n",
       "      <th>50%</th>\n",
       "      <td>1140.990000</td>\n",
       "    </tr>\n",
       "    <tr>\n",
       "      <th>75%</th>\n",
       "      <td>1207.150000</td>\n",
       "    </tr>\n",
       "    <tr>\n",
       "      <th>max</th>\n",
       "      <td>1248.840000</td>\n",
       "    </tr>\n",
       "  </tbody>\n",
       "</table>\n",
       "</div>"
      ],
      "text/plain": [
       "              AAPL\n",
       "count    13.000000\n",
       "mean   1142.775385\n",
       "std      76.556568\n",
       "min    1003.630000\n",
       "25%    1080.910000\n",
       "50%    1140.990000\n",
       "75%    1207.150000\n",
       "max    1248.840000"
      ]
     },
     "execution_count": 129,
     "metadata": {},
     "output_type": "execute_result"
    }
   ],
   "source": [
    "import pandas as pd\n",
    "\n",
    "goog_df = pd.DataFrame({\"AAPL\": [1045.85, 1070.08, 1140.99, 1113.65, 1193.32, 1231.54, 1215.00, 1207.15,1248.84, 1166.27, 1138.85, 1003.63, 1080.91]})\n",
    "\n",
    "goog_df.describe()"
   ]
  },
  {
   "cell_type": "code",
   "execution_count": 135,
   "id": "52b023fe",
   "metadata": {},
   "outputs": [
    {
     "data": {
      "text/plain": [
       "Index(['student_id', 'student_name', 'grade', 'school_name', 'reading_score',\n",
       "       'math_score', 'school_type'],\n",
       "      dtype='object')"
      ]
     },
     "execution_count": 135,
     "metadata": {},
     "output_type": "execute_result"
    }
   ],
   "source": [
    "student_df.columns"
   ]
  },
  {
   "cell_type": "code",
   "execution_count": 136,
   "id": "cac2d6c8",
   "metadata": {},
   "outputs": [
    {
     "name": "stderr",
     "output_type": "stream",
     "text": [
      "/var/folders/9m/xp265wv97bl6mhlqzr9f1wcr0000gn/T/ipykernel_68652/1515950957.py:2: FutureWarning: The default value of numeric_only in DataFrame.mean is deprecated. In a future version, it will default to False. In addition, specifying 'numeric_only=None' is deprecated. Select only valid columns or specify the value of numeric_only to silence this warning.\n",
      "  student_df.mean()\n"
     ]
    },
    {
     "data": {
      "text/plain": [
       "student_id       6.971953e+07\n",
       "grade            1.056601e+01\n",
       "reading_score    7.524151e+01\n",
       "math_score       6.434325e+01\n",
       "dtype: float64"
      ]
     },
     "execution_count": 136,
     "metadata": {},
     "output_type": "execute_result"
    }
   ],
   "source": [
    "#student_df.describe()\n",
    "student_df.mean()"
   ]
  },
  {
   "cell_type": "code",
   "execution_count": 150,
   "id": "2d9cd33b",
   "metadata": {},
   "outputs": [
    {
     "data": {
      "text/html": [
       "<div>\n",
       "<style scoped>\n",
       "    .dataframe tbody tr th:only-of-type {\n",
       "        vertical-align: middle;\n",
       "    }\n",
       "\n",
       "    .dataframe tbody tr th {\n",
       "        vertical-align: top;\n",
       "    }\n",
       "\n",
       "    .dataframe thead th {\n",
       "        text-align: right;\n",
       "    }\n",
       "</style>\n",
       "<table border=\"1\" class=\"dataframe\">\n",
       "  <thead>\n",
       "    <tr style=\"text-align: right;\">\n",
       "      <th></th>\n",
       "      <th>AAPL</th>\n",
       "    </tr>\n",
       "  </thead>\n",
       "  <tbody>\n",
       "    <tr>\n",
       "      <th>1</th>\n",
       "      <td>0.56</td>\n",
       "    </tr>\n",
       "    <tr>\n",
       "      <th>2</th>\n",
       "      <td>0.59</td>\n",
       "    </tr>\n",
       "  </tbody>\n",
       "</table>\n",
       "</div>"
      ],
      "text/plain": [
       "   AAPL\n",
       "1  0.56\n",
       "2  0.59"
      ]
     },
     "execution_count": 150,
     "metadata": {},
     "output_type": "execute_result"
    }
   ],
   "source": [
    "# Create a DataFrame\n",
    "aapl_returns = pd.DataFrame({\"AAPL\": [0.5, 0.56, 0.59, 0.52, 0.1]})\n",
    "\n",
    "# Select the first row using iloc\n",
    "#aapl_returns.iloc[0]\n",
    "\n",
    "#select a range using iloc\n",
    "aapl_returns.iloc[1:3]"
   ]
  },
  {
   "cell_type": "code",
   "execution_count": 165,
   "id": "f4d79b1a",
   "metadata": {},
   "outputs": [],
   "source": [
    "import numpy as np\n",
    "revenue_df = pd.DataFrame(\n",
    "    np.random.randint(low=1, high=1000, size=1000),\n",
    "    index=pd.date_range('1/1/2017', periods=1000),\n",
    "    columns=[\"revenue\"])"
   ]
  },
  {
   "cell_type": "code",
   "execution_count": 167,
   "id": "5720f72f",
   "metadata": {},
   "outputs": [
    {
     "data": {
      "text/plain": [
       "count    182.000000\n",
       "mean     519.719780\n",
       "std      297.825923\n",
       "min        6.000000\n",
       "25%      254.000000\n",
       "50%      504.500000\n",
       "75%      799.750000\n",
       "max      996.000000\n",
       "Name: revenue, dtype: float64"
      ]
     },
     "execution_count": 167,
     "metadata": {},
     "output_type": "execute_result"
    }
   ],
   "source": [
    "revenue_df.loc['2018-10-01':'2019-03-31', \"revenue\"].describe()"
   ]
  },
  {
   "cell_type": "code",
   "execution_count": 168,
   "id": "3a7ba187",
   "metadata": {},
   "outputs": [
    {
     "data": {
      "text/html": [
       "<div>\n",
       "<style scoped>\n",
       "    .dataframe tbody tr th:only-of-type {\n",
       "        vertical-align: middle;\n",
       "    }\n",
       "\n",
       "    .dataframe tbody tr th {\n",
       "        vertical-align: top;\n",
       "    }\n",
       "\n",
       "    .dataframe thead th {\n",
       "        text-align: right;\n",
       "    }\n",
       "</style>\n",
       "<table border=\"1\" class=\"dataframe\">\n",
       "  <thead>\n",
       "    <tr style=\"text-align: right;\">\n",
       "      <th></th>\n",
       "      <th>item</th>\n",
       "      <th>quantity</th>\n",
       "      <th>total_price</th>\n",
       "    </tr>\n",
       "  </thead>\n",
       "  <tbody>\n",
       "    <tr>\n",
       "      <th>0</th>\n",
       "      <td>tomatoes</td>\n",
       "      <td>15</td>\n",
       "      <td>50.25</td>\n",
       "    </tr>\n",
       "    <tr>\n",
       "      <th>1</th>\n",
       "      <td>onions</td>\n",
       "      <td>26</td>\n",
       "      <td>39.52</td>\n",
       "    </tr>\n",
       "    <tr>\n",
       "      <th>2</th>\n",
       "      <td>potatoes</td>\n",
       "      <td>10</td>\n",
       "      <td>50.01</td>\n",
       "    </tr>\n",
       "    <tr>\n",
       "      <th>3</th>\n",
       "      <td>tomatoes</td>\n",
       "      <td>12</td>\n",
       "      <td>40.20</td>\n",
       "    </tr>\n",
       "    <tr>\n",
       "      <th>4</th>\n",
       "      <td>mushrooms</td>\n",
       "      <td>2</td>\n",
       "      <td>8.46</td>\n",
       "    </tr>\n",
       "  </tbody>\n",
       "</table>\n",
       "</div>"
      ],
      "text/plain": [
       "        item  quantity  total_price\n",
       "0   tomatoes        15        50.25\n",
       "1     onions        26        39.52\n",
       "2   potatoes        10        50.01\n",
       "3   tomatoes        12        40.20\n",
       "4  mushrooms         2         8.46"
      ]
     },
     "execution_count": 168,
     "metadata": {},
     "output_type": "execute_result"
    }
   ],
   "source": [
    "sales_df"
   ]
  },
  {
   "cell_type": "code",
   "execution_count": 176,
   "id": "2251945f",
   "metadata": {},
   "outputs": [
    {
     "data": {
      "text/html": [
       "<div>\n",
       "<style scoped>\n",
       "    .dataframe tbody tr th:only-of-type {\n",
       "        vertical-align: middle;\n",
       "    }\n",
       "\n",
       "    .dataframe tbody tr th {\n",
       "        vertical-align: top;\n",
       "    }\n",
       "\n",
       "    .dataframe thead th {\n",
       "        text-align: right;\n",
       "    }\n",
       "</style>\n",
       "<table border=\"1\" class=\"dataframe\">\n",
       "  <thead>\n",
       "    <tr style=\"text-align: right;\">\n",
       "      <th></th>\n",
       "      <th>item</th>\n",
       "      <th>quantity</th>\n",
       "      <th>total_price</th>\n",
       "    </tr>\n",
       "  </thead>\n",
       "  <tbody>\n",
       "    <tr>\n",
       "      <th>1</th>\n",
       "      <td>onions</td>\n",
       "      <td>26</td>\n",
       "      <td>39.52</td>\n",
       "    </tr>\n",
       "    <tr>\n",
       "      <th>3</th>\n",
       "      <td>tomatoes</td>\n",
       "      <td>12</td>\n",
       "      <td>40.20</td>\n",
       "    </tr>\n",
       "  </tbody>\n",
       "</table>\n",
       "</div>"
      ],
      "text/plain": [
       "       item  quantity  total_price\n",
       "1    onions        26        39.52\n",
       "3  tomatoes        12        40.20"
      ]
     },
     "execution_count": 176,
     "metadata": {},
     "output_type": "execute_result"
    }
   ],
   "source": [
    "sales_df.loc[(sales_df[\"quantity\"] > 10) & (sales_df[\"total_price\"] < 45)]"
   ]
  },
  {
   "cell_type": "code",
   "execution_count": 177,
   "id": "031f8f4d",
   "metadata": {},
   "outputs": [],
   "source": [
    "min_price = sales_df[\"total_price\"].min()"
   ]
  },
  {
   "cell_type": "code",
   "execution_count": 178,
   "id": "7d3d6a94",
   "metadata": {},
   "outputs": [
    {
     "data": {
      "text/plain": [
       "8.46"
      ]
     },
     "execution_count": 178,
     "metadata": {},
     "output_type": "execute_result"
    }
   ],
   "source": [
    "min_price"
   ]
  },
  {
   "cell_type": "code",
   "execution_count": 179,
   "id": "d7282a74",
   "metadata": {},
   "outputs": [],
   "source": [
    "min_price_row = sales_df.loc[sales_df[\"total_price\"] == min_price]"
   ]
  },
  {
   "cell_type": "code",
   "execution_count": 180,
   "id": "f49c5606",
   "metadata": {},
   "outputs": [
    {
     "data": {
      "text/html": [
       "<div>\n",
       "<style scoped>\n",
       "    .dataframe tbody tr th:only-of-type {\n",
       "        vertical-align: middle;\n",
       "    }\n",
       "\n",
       "    .dataframe tbody tr th {\n",
       "        vertical-align: top;\n",
       "    }\n",
       "\n",
       "    .dataframe thead th {\n",
       "        text-align: right;\n",
       "    }\n",
       "</style>\n",
       "<table border=\"1\" class=\"dataframe\">\n",
       "  <thead>\n",
       "    <tr style=\"text-align: right;\">\n",
       "      <th></th>\n",
       "      <th>item</th>\n",
       "      <th>quantity</th>\n",
       "      <th>total_price</th>\n",
       "    </tr>\n",
       "  </thead>\n",
       "  <tbody>\n",
       "    <tr>\n",
       "      <th>4</th>\n",
       "      <td>mushrooms</td>\n",
       "      <td>2</td>\n",
       "      <td>8.46</td>\n",
       "    </tr>\n",
       "  </tbody>\n",
       "</table>\n",
       "</div>"
      ],
      "text/plain": [
       "        item  quantity  total_price\n",
       "4  mushrooms         2         8.46"
      ]
     },
     "execution_count": 180,
     "metadata": {},
     "output_type": "execute_result"
    }
   ],
   "source": [
    "min_price_row"
   ]
  },
  {
   "cell_type": "code",
   "execution_count": 182,
   "id": "00576794",
   "metadata": {},
   "outputs": [
    {
     "data": {
      "text/html": [
       "<div>\n",
       "<style scoped>\n",
       "    .dataframe tbody tr th:only-of-type {\n",
       "        vertical-align: middle;\n",
       "    }\n",
       "\n",
       "    .dataframe tbody tr th {\n",
       "        vertical-align: top;\n",
       "    }\n",
       "\n",
       "    .dataframe thead th {\n",
       "        text-align: right;\n",
       "    }\n",
       "</style>\n",
       "<table border=\"1\" class=\"dataframe\">\n",
       "  <thead>\n",
       "    <tr style=\"text-align: right;\">\n",
       "      <th></th>\n",
       "      <th>item</th>\n",
       "      <th>quantity</th>\n",
       "      <th>total_price</th>\n",
       "    </tr>\n",
       "  </thead>\n",
       "  <tbody>\n",
       "    <tr>\n",
       "      <th>0</th>\n",
       "      <td>tomatoes</td>\n",
       "      <td>15</td>\n",
       "      <td>50.25</td>\n",
       "    </tr>\n",
       "    <tr>\n",
       "      <th>3</th>\n",
       "      <td>tomatoes</td>\n",
       "      <td>12</td>\n",
       "      <td>40.20</td>\n",
       "    </tr>\n",
       "  </tbody>\n",
       "</table>\n",
       "</div>"
      ],
      "text/plain": [
       "       item  quantity  total_price\n",
       "0  tomatoes        15        50.25\n",
       "3  tomatoes        12        40.20"
      ]
     },
     "execution_count": 182,
     "metadata": {},
     "output_type": "execute_result"
    }
   ],
   "source": [
    "sales_df.loc[sales_df[\"item\"] == \"tomatoes\"]"
   ]
  },
  {
   "cell_type": "code",
   "execution_count": 186,
   "id": "d88d6924",
   "metadata": {},
   "outputs": [
    {
     "data": {
      "text/plain": [
       "total_price    45.225\n",
       "dtype: float64"
      ]
     },
     "execution_count": 186,
     "metadata": {},
     "output_type": "execute_result"
    }
   ],
   "source": [
    "#returns the mean of the 2 rows with tomatoes as the item \n",
    "sales_df.loc[sales_df[\"item\"] == \"tomatoes\" , [\"total_price\"]].mean()"
   ]
  },
  {
   "cell_type": "code",
   "execution_count": 191,
   "id": "0f435dcd",
   "metadata": {},
   "outputs": [
    {
     "data": {
      "text/html": [
       "<div>\n",
       "<style scoped>\n",
       "    .dataframe tbody tr th:only-of-type {\n",
       "        vertical-align: middle;\n",
       "    }\n",
       "\n",
       "    .dataframe tbody tr th {\n",
       "        vertical-align: top;\n",
       "    }\n",
       "\n",
       "    .dataframe thead th {\n",
       "        text-align: right;\n",
       "    }\n",
       "</style>\n",
       "<table border=\"1\" class=\"dataframe\">\n",
       "  <thead>\n",
       "    <tr style=\"text-align: right;\">\n",
       "      <th></th>\n",
       "      <th>item</th>\n",
       "      <th>total_price</th>\n",
       "    </tr>\n",
       "  </thead>\n",
       "  <tbody>\n",
       "    <tr>\n",
       "      <th>0</th>\n",
       "      <td>tomatoes</td>\n",
       "      <td>50.25</td>\n",
       "    </tr>\n",
       "    <tr>\n",
       "      <th>3</th>\n",
       "      <td>tomatoes</td>\n",
       "      <td>40.20</td>\n",
       "    </tr>\n",
       "  </tbody>\n",
       "</table>\n",
       "</div>"
      ],
      "text/plain": [
       "       item  total_price\n",
       "0  tomatoes        50.25\n",
       "3  tomatoes        40.20"
      ]
     },
     "execution_count": 191,
     "metadata": {},
     "output_type": "execute_result"
    }
   ],
   "source": [
    "#this will return rows at index position 0 and 3 and columns 0 and 2, (rows, columns)\n",
    "sales_df.iloc[[0,3] , [0,2]]"
   ]
  },
  {
   "cell_type": "code",
   "execution_count": 195,
   "id": "5e6b95fc",
   "metadata": {},
   "outputs": [
    {
     "data": {
      "text/html": [
       "<div>\n",
       "<style scoped>\n",
       "    .dataframe tbody tr th:only-of-type {\n",
       "        vertical-align: middle;\n",
       "    }\n",
       "\n",
       "    .dataframe tbody tr th {\n",
       "        vertical-align: top;\n",
       "    }\n",
       "\n",
       "    .dataframe thead th {\n",
       "        text-align: right;\n",
       "    }\n",
       "</style>\n",
       "<table border=\"1\" class=\"dataframe\">\n",
       "  <thead>\n",
       "    <tr style=\"text-align: right;\">\n",
       "      <th></th>\n",
       "      <th>item</th>\n",
       "      <th>quantity</th>\n",
       "      <th>total_price</th>\n",
       "    </tr>\n",
       "  </thead>\n",
       "  <tbody>\n",
       "    <tr>\n",
       "      <th>0</th>\n",
       "      <td>tomatoes</td>\n",
       "      <td>15</td>\n",
       "      <td>50.25</td>\n",
       "    </tr>\n",
       "    <tr>\n",
       "      <th>2</th>\n",
       "      <td>potatoes</td>\n",
       "      <td>10</td>\n",
       "      <td>50.01</td>\n",
       "    </tr>\n",
       "  </tbody>\n",
       "</table>\n",
       "</div>"
      ],
      "text/plain": [
       "       item  quantity  total_price\n",
       "0  tomatoes        15        50.25\n",
       "2  potatoes        10        50.01"
      ]
     },
     "execution_count": 195,
     "metadata": {},
     "output_type": "execute_result"
    }
   ],
   "source": [
    "sales_df.iloc[[0,2],:]"
   ]
  },
  {
   "cell_type": "code",
   "execution_count": 199,
   "id": "faaf585d",
   "metadata": {},
   "outputs": [
    {
     "data": {
      "text/html": [
       "<div>\n",
       "<style scoped>\n",
       "    .dataframe tbody tr th:only-of-type {\n",
       "        vertical-align: middle;\n",
       "    }\n",
       "\n",
       "    .dataframe tbody tr th {\n",
       "        vertical-align: top;\n",
       "    }\n",
       "\n",
       "    .dataframe thead th {\n",
       "        text-align: right;\n",
       "    }\n",
       "</style>\n",
       "<table border=\"1\" class=\"dataframe\">\n",
       "  <thead>\n",
       "    <tr style=\"text-align: right;\">\n",
       "      <th></th>\n",
       "      <th>item</th>\n",
       "      <th>quantity</th>\n",
       "      <th>total_price</th>\n",
       "    </tr>\n",
       "  </thead>\n",
       "  <tbody>\n",
       "    <tr>\n",
       "      <th>0</th>\n",
       "      <td>tomatoes</td>\n",
       "      <td>15</td>\n",
       "      <td>50.25</td>\n",
       "    </tr>\n",
       "    <tr>\n",
       "      <th>2</th>\n",
       "      <td>potatoes</td>\n",
       "      <td>10</td>\n",
       "      <td>50.01</td>\n",
       "    </tr>\n",
       "    <tr>\n",
       "      <th>3</th>\n",
       "      <td>tomatoes</td>\n",
       "      <td>12</td>\n",
       "      <td>40.20</td>\n",
       "    </tr>\n",
       "    <tr>\n",
       "      <th>1</th>\n",
       "      <td>onions</td>\n",
       "      <td>26</td>\n",
       "      <td>39.52</td>\n",
       "    </tr>\n",
       "    <tr>\n",
       "      <th>4</th>\n",
       "      <td>mushrooms</td>\n",
       "      <td>2</td>\n",
       "      <td>8.46</td>\n",
       "    </tr>\n",
       "  </tbody>\n",
       "</table>\n",
       "</div>"
      ],
      "text/plain": [
       "        item  quantity  total_price\n",
       "0   tomatoes        15        50.25\n",
       "2   potatoes        10        50.01\n",
       "3   tomatoes        12        40.20\n",
       "1     onions        26        39.52\n",
       "4  mushrooms         2         8.46"
      ]
     },
     "execution_count": 199,
     "metadata": {},
     "output_type": "execute_result"
    }
   ],
   "source": [
    "#ascending is default, set to False to get descending \n",
    "sales_df.sort_values(\"total_price\" , ascending = False)"
   ]
  },
  {
   "cell_type": "code",
   "execution_count": null,
   "id": "01b902a1",
   "metadata": {},
   "outputs": [],
   "source": []
  },
  {
   "cell_type": "code",
   "execution_count": 206,
   "id": "3924c299",
   "metadata": {},
   "outputs": [
    {
     "data": {
      "text/html": [
       "<div>\n",
       "<style scoped>\n",
       "    .dataframe tbody tr th:only-of-type {\n",
       "        vertical-align: middle;\n",
       "    }\n",
       "\n",
       "    .dataframe tbody tr th {\n",
       "        vertical-align: top;\n",
       "    }\n",
       "\n",
       "    .dataframe thead th {\n",
       "        text-align: right;\n",
       "    }\n",
       "</style>\n",
       "<table border=\"1\" class=\"dataframe\">\n",
       "  <thead>\n",
       "    <tr style=\"text-align: right;\">\n",
       "      <th></th>\n",
       "      <th>student_id</th>\n",
       "      <th>student_name</th>\n",
       "      <th>grade</th>\n",
       "      <th>school_name</th>\n",
       "      <th>reading_score</th>\n",
       "      <th>math_score</th>\n",
       "      <th>school_type</th>\n",
       "    </tr>\n",
       "  </thead>\n",
       "  <tbody>\n",
       "    <tr>\n",
       "      <th>8</th>\n",
       "      <td>67245222</td>\n",
       "      <td>Tina Roberts</td>\n",
       "      <td>12</td>\n",
       "      <td>Bowers High School</td>\n",
       "      <td>87.5</td>\n",
       "      <td>81.5</td>\n",
       "      <td>Public</td>\n",
       "    </tr>\n",
       "    <tr>\n",
       "      <th>2</th>\n",
       "      <td>44359500</td>\n",
       "      <td>Ryan Haas</td>\n",
       "      <td>12</td>\n",
       "      <td>Campbell High School</td>\n",
       "      <td>91.6</td>\n",
       "      <td>54.7</td>\n",
       "      <td>Public</td>\n",
       "    </tr>\n",
       "    <tr>\n",
       "      <th>0</th>\n",
       "      <td>127008367</td>\n",
       "      <td>Sarah Douglas</td>\n",
       "      <td>11</td>\n",
       "      <td>Chang High School</td>\n",
       "      <td>87.2</td>\n",
       "      <td>64.1</td>\n",
       "      <td>Public</td>\n",
       "    </tr>\n",
       "    <tr>\n",
       "      <th>4</th>\n",
       "      <td>121467881</td>\n",
       "      <td>Harold Reynolds</td>\n",
       "      <td>12</td>\n",
       "      <td>Chang High School</td>\n",
       "      <td>68.7</td>\n",
       "      <td>43.4</td>\n",
       "      <td>Public</td>\n",
       "    </tr>\n",
       "    <tr>\n",
       "      <th>10</th>\n",
       "      <td>67723113</td>\n",
       "      <td>Jeffrey Smith</td>\n",
       "      <td>9</td>\n",
       "      <td>Chang High School</td>\n",
       "      <td>84.4</td>\n",
       "      <td>83.8</td>\n",
       "      <td>Public</td>\n",
       "    </tr>\n",
       "    <tr>\n",
       "      <th>7</th>\n",
       "      <td>52477762</td>\n",
       "      <td>Tracy Flores</td>\n",
       "      <td>9</td>\n",
       "      <td>Fisher High School</td>\n",
       "      <td>72.0</td>\n",
       "      <td>67.3</td>\n",
       "      <td>Public</td>\n",
       "    </tr>\n",
       "    <tr>\n",
       "      <th>3</th>\n",
       "      <td>24791243</td>\n",
       "      <td>Kathryn Mack</td>\n",
       "      <td>11</td>\n",
       "      <td>Richard High School</td>\n",
       "      <td>68.9</td>\n",
       "      <td>73.3</td>\n",
       "      <td>Charter</td>\n",
       "    </tr>\n",
       "    <tr>\n",
       "      <th>9</th>\n",
       "      <td>101335836</td>\n",
       "      <td>Shane Smith</td>\n",
       "      <td>9</td>\n",
       "      <td>Silva High School</td>\n",
       "      <td>63.2</td>\n",
       "      <td>79.1</td>\n",
       "      <td>Public</td>\n",
       "    </tr>\n",
       "    <tr>\n",
       "      <th>5</th>\n",
       "      <td>79397676</td>\n",
       "      <td>Kyle Brooks</td>\n",
       "      <td>9</td>\n",
       "      <td>Turner High School</td>\n",
       "      <td>72.6</td>\n",
       "      <td>55.4</td>\n",
       "      <td>Public</td>\n",
       "    </tr>\n",
       "    <tr>\n",
       "      <th>11</th>\n",
       "      <td>127402895</td>\n",
       "      <td>Samuel Williams</td>\n",
       "      <td>11</td>\n",
       "      <td>Turner High School</td>\n",
       "      <td>91.6</td>\n",
       "      <td>54.9</td>\n",
       "      <td>Public</td>\n",
       "    </tr>\n",
       "  </tbody>\n",
       "</table>\n",
       "</div>"
      ],
      "text/plain": [
       "    student_id     student_name  grade           school_name  reading_score  \\\n",
       "8     67245222     Tina Roberts     12    Bowers High School           87.5   \n",
       "2     44359500        Ryan Haas     12  Campbell High School           91.6   \n",
       "0    127008367    Sarah Douglas     11     Chang High School           87.2   \n",
       "4    121467881  Harold Reynolds     12     Chang High School           68.7   \n",
       "10    67723113    Jeffrey Smith      9     Chang High School           84.4   \n",
       "7     52477762     Tracy Flores      9    Fisher High School           72.0   \n",
       "3     24791243     Kathryn Mack     11   Richard High School           68.9   \n",
       "9    101335836      Shane Smith      9     Silva High School           63.2   \n",
       "5     79397676      Kyle Brooks      9    Turner High School           72.6   \n",
       "11   127402895  Samuel Williams     11    Turner High School           91.6   \n",
       "\n",
       "    math_score school_type  \n",
       "8         81.5      Public  \n",
       "2         54.7      Public  \n",
       "0         64.1      Public  \n",
       "4         43.4      Public  \n",
       "10        83.8      Public  \n",
       "7         67.3      Public  \n",
       "3         73.3     Charter  \n",
       "9         79.1      Public  \n",
       "5         55.4      Public  \n",
       "11        54.9      Public  "
      ]
     },
     "execution_count": 206,
     "metadata": {},
     "output_type": "execute_result"
    }
   ],
   "source": [
    "student_df.iloc[:10].sort_values(\"school_name\")"
   ]
  },
  {
   "cell_type": "code",
   "execution_count": 207,
   "id": "dcdfda80",
   "metadata": {},
   "outputs": [],
   "source": [
    "public_schools_df = student_df.loc[student_df[\"school_type\"] == \"Public\"]"
   ]
  },
  {
   "cell_type": "code",
   "execution_count": 209,
   "id": "113da662",
   "metadata": {},
   "outputs": [
    {
     "data": {
      "text/html": [
       "<div>\n",
       "<style scoped>\n",
       "    .dataframe tbody tr th:only-of-type {\n",
       "        vertical-align: middle;\n",
       "    }\n",
       "\n",
       "    .dataframe tbody tr th {\n",
       "        vertical-align: top;\n",
       "    }\n",
       "\n",
       "    .dataframe thead th {\n",
       "        text-align: right;\n",
       "    }\n",
       "</style>\n",
       "<table border=\"1\" class=\"dataframe\">\n",
       "  <thead>\n",
       "    <tr style=\"text-align: right;\">\n",
       "      <th></th>\n",
       "      <th>student_id</th>\n",
       "      <th>grade</th>\n",
       "      <th>reading_score</th>\n",
       "      <th>math_score</th>\n",
       "    </tr>\n",
       "  </thead>\n",
       "  <tbody>\n",
       "    <tr>\n",
       "      <th>count</th>\n",
       "      <td>9.371000e+03</td>\n",
       "      <td>9371.000000</td>\n",
       "      <td>9371.000000</td>\n",
       "      <td>9371.000000</td>\n",
       "    </tr>\n",
       "    <tr>\n",
       "      <th>mean</th>\n",
       "      <td>6.974398e+07</td>\n",
       "      <td>10.538043</td>\n",
       "      <td>75.708078</td>\n",
       "      <td>64.697727</td>\n",
       "    </tr>\n",
       "    <tr>\n",
       "      <th>std</th>\n",
       "      <td>3.471334e+07</td>\n",
       "      <td>1.138498</td>\n",
       "      <td>14.112392</td>\n",
       "      <td>16.885912</td>\n",
       "    </tr>\n",
       "    <tr>\n",
       "      <th>min</th>\n",
       "      <td>1.000132e+07</td>\n",
       "      <td>9.000000</td>\n",
       "      <td>11.400000</td>\n",
       "      <td>1.400000</td>\n",
       "    </tr>\n",
       "    <tr>\n",
       "      <th>25%</th>\n",
       "      <td>3.965142e+07</td>\n",
       "      <td>9.000000</td>\n",
       "      <td>66.500000</td>\n",
       "      <td>53.000000</td>\n",
       "    </tr>\n",
       "    <tr>\n",
       "      <th>50%</th>\n",
       "      <td>7.018066e+07</td>\n",
       "      <td>11.000000</td>\n",
       "      <td>76.900000</td>\n",
       "      <td>65.500000</td>\n",
       "    </tr>\n",
       "    <tr>\n",
       "      <th>75%</th>\n",
       "      <td>9.984795e+07</td>\n",
       "      <td>12.000000</td>\n",
       "      <td>86.700000</td>\n",
       "      <td>77.100000</td>\n",
       "    </tr>\n",
       "    <tr>\n",
       "      <th>max</th>\n",
       "      <td>1.299903e+08</td>\n",
       "      <td>12.000000</td>\n",
       "      <td>100.000000</td>\n",
       "      <td>100.000000</td>\n",
       "    </tr>\n",
       "  </tbody>\n",
       "</table>\n",
       "</div>"
      ],
      "text/plain": [
       "         student_id        grade  reading_score   math_score\n",
       "count  9.371000e+03  9371.000000    9371.000000  9371.000000\n",
       "mean   6.974398e+07    10.538043      75.708078    64.697727\n",
       "std    3.471334e+07     1.138498      14.112392    16.885912\n",
       "min    1.000132e+07     9.000000      11.400000     1.400000\n",
       "25%    3.965142e+07     9.000000      66.500000    53.000000\n",
       "50%    7.018066e+07    11.000000      76.900000    65.500000\n",
       "75%    9.984795e+07    12.000000      86.700000    77.100000\n",
       "max    1.299903e+08    12.000000     100.000000   100.000000"
      ]
     },
     "execution_count": 209,
     "metadata": {},
     "output_type": "execute_result"
    }
   ],
   "source": [
    "public_schools_df.describe()"
   ]
  },
  {
   "cell_type": "code",
   "execution_count": 210,
   "id": "892eab04",
   "metadata": {},
   "outputs": [],
   "source": [
    "charter_schools_df = student_df.loc[student_df[\"school_type\"] == \"Charter\"]"
   ]
  },
  {
   "cell_type": "code",
   "execution_count": 212,
   "id": "3423cc8c",
   "metadata": {},
   "outputs": [
    {
     "data": {
      "text/html": [
       "<div>\n",
       "<style scoped>\n",
       "    .dataframe tbody tr th:only-of-type {\n",
       "        vertical-align: middle;\n",
       "    }\n",
       "\n",
       "    .dataframe tbody tr th {\n",
       "        vertical-align: top;\n",
       "    }\n",
       "\n",
       "    .dataframe thead th {\n",
       "        text-align: right;\n",
       "    }\n",
       "</style>\n",
       "<table border=\"1\" class=\"dataframe\">\n",
       "  <thead>\n",
       "    <tr style=\"text-align: right;\">\n",
       "      <th></th>\n",
       "      <th>student_id</th>\n",
       "      <th>grade</th>\n",
       "      <th>reading_score</th>\n",
       "      <th>math_score</th>\n",
       "    </tr>\n",
       "  </thead>\n",
       "  <tbody>\n",
       "    <tr>\n",
       "      <th>count</th>\n",
       "      <td>1.233000e+03</td>\n",
       "      <td>1233.000000</td>\n",
       "      <td>1233.000000</td>\n",
       "      <td>1233.000000</td>\n",
       "    </tr>\n",
       "    <tr>\n",
       "      <th>mean</th>\n",
       "      <td>6.953366e+07</td>\n",
       "      <td>10.778589</td>\n",
       "      <td>71.695539</td>\n",
       "      <td>61.649148</td>\n",
       "    </tr>\n",
       "    <tr>\n",
       "      <th>std</th>\n",
       "      <td>3.468531e+07</td>\n",
       "      <td>1.029025</td>\n",
       "      <td>15.066829</td>\n",
       "      <td>14.580061</td>\n",
       "    </tr>\n",
       "    <tr>\n",
       "      <th>min</th>\n",
       "      <td>1.002379e+07</td>\n",
       "      <td>9.000000</td>\n",
       "      <td>9.500000</td>\n",
       "      <td>16.900000</td>\n",
       "    </tr>\n",
       "    <tr>\n",
       "      <th>25%</th>\n",
       "      <td>4.039925e+07</td>\n",
       "      <td>10.000000</td>\n",
       "      <td>61.600000</td>\n",
       "      <td>51.200000</td>\n",
       "    </tr>\n",
       "    <tr>\n",
       "      <th>50%</th>\n",
       "      <td>6.871485e+07</td>\n",
       "      <td>11.000000</td>\n",
       "      <td>72.300000</td>\n",
       "      <td>62.200000</td>\n",
       "    </tr>\n",
       "    <tr>\n",
       "      <th>75%</th>\n",
       "      <td>9.979185e+07</td>\n",
       "      <td>12.000000</td>\n",
       "      <td>83.400000</td>\n",
       "      <td>72.100000</td>\n",
       "    </tr>\n",
       "    <tr>\n",
       "      <th>max</th>\n",
       "      <td>1.297629e+08</td>\n",
       "      <td>12.000000</td>\n",
       "      <td>99.900000</td>\n",
       "      <td>100.000000</td>\n",
       "    </tr>\n",
       "  </tbody>\n",
       "</table>\n",
       "</div>"
      ],
      "text/plain": [
       "         student_id        grade  reading_score   math_score\n",
       "count  1.233000e+03  1233.000000    1233.000000  1233.000000\n",
       "mean   6.953366e+07    10.778589      71.695539    61.649148\n",
       "std    3.468531e+07     1.029025      15.066829    14.580061\n",
       "min    1.002379e+07     9.000000       9.500000    16.900000\n",
       "25%    4.039925e+07    10.000000      61.600000    51.200000\n",
       "50%    6.871485e+07    11.000000      72.300000    62.200000\n",
       "75%    9.979185e+07    12.000000      83.400000    72.100000\n",
       "max    1.297629e+08    12.000000      99.900000   100.000000"
      ]
     },
     "execution_count": 212,
     "metadata": {},
     "output_type": "execute_result"
    }
   ],
   "source": [
    "charter_schools_df.describe()"
   ]
  },
  {
   "cell_type": "code",
   "execution_count": 215,
   "id": "80bc0e93",
   "metadata": {},
   "outputs": [],
   "source": [
    "min_math_score = student_df[\"math_score\"].min()"
   ]
  },
  {
   "cell_type": "code",
   "execution_count": 216,
   "id": "548fa5c6",
   "metadata": {},
   "outputs": [
    {
     "data": {
      "text/plain": [
       "1.4"
      ]
     },
     "execution_count": 216,
     "metadata": {},
     "output_type": "execute_result"
    }
   ],
   "source": [
    "min_math_score"
   ]
  },
  {
   "cell_type": "code",
   "execution_count": 217,
   "id": "bf4a5871",
   "metadata": {},
   "outputs": [],
   "source": [
    "min_math_score_row = student_df.loc[student_df[\"math_score\"]== min_math_score]"
   ]
  },
  {
   "cell_type": "code",
   "execution_count": 218,
   "id": "961f958a",
   "metadata": {},
   "outputs": [
    {
     "data": {
      "text/html": [
       "<div>\n",
       "<style scoped>\n",
       "    .dataframe tbody tr th:only-of-type {\n",
       "        vertical-align: middle;\n",
       "    }\n",
       "\n",
       "    .dataframe tbody tr th {\n",
       "        vertical-align: top;\n",
       "    }\n",
       "\n",
       "    .dataframe thead th {\n",
       "        text-align: right;\n",
       "    }\n",
       "</style>\n",
       "<table border=\"1\" class=\"dataframe\">\n",
       "  <thead>\n",
       "    <tr style=\"text-align: right;\">\n",
       "      <th></th>\n",
       "      <th>student_id</th>\n",
       "      <th>student_name</th>\n",
       "      <th>grade</th>\n",
       "      <th>school_name</th>\n",
       "      <th>reading_score</th>\n",
       "      <th>math_score</th>\n",
       "      <th>school_type</th>\n",
       "    </tr>\n",
       "  </thead>\n",
       "  <tbody>\n",
       "    <tr>\n",
       "      <th>6772</th>\n",
       "      <td>10439629</td>\n",
       "      <td>Kevin Davis</td>\n",
       "      <td>11</td>\n",
       "      <td>Green High School</td>\n",
       "      <td>68.1</td>\n",
       "      <td>1.4</td>\n",
       "      <td>Public</td>\n",
       "    </tr>\n",
       "  </tbody>\n",
       "</table>\n",
       "</div>"
      ],
      "text/plain": [
       "      student_id student_name  grade        school_name  reading_score  \\\n",
       "6772    10439629  Kevin Davis     11  Green High School           68.1   \n",
       "\n",
       "      math_score school_type  \n",
       "6772         1.4      Public  "
      ]
     },
     "execution_count": 218,
     "metadata": {},
     "output_type": "execute_result"
    }
   ],
   "source": [
    "min_math_score_row"
   ]
  },
  {
   "cell_type": "code",
   "execution_count": 226,
   "id": "38a7fdc1",
   "metadata": {},
   "outputs": [
    {
     "data": {
      "text/plain": [
       "58.970238095238095"
      ]
     },
     "execution_count": 226,
     "metadata": {},
     "output_type": "execute_result"
    }
   ],
   "source": [
    "student_df.loc[student_df[\"school_name\"] == \"Green High School\" , \"math_score\"].mean()"
   ]
  },
  {
   "cell_type": "code",
   "execution_count": 227,
   "id": "002f4c0f",
   "metadata": {},
   "outputs": [
    {
     "data": {
      "text/html": [
       "<div>\n",
       "<style scoped>\n",
       "    .dataframe tbody tr th:only-of-type {\n",
       "        vertical-align: middle;\n",
       "    }\n",
       "\n",
       "    .dataframe tbody tr th {\n",
       "        vertical-align: top;\n",
       "    }\n",
       "\n",
       "    .dataframe thead th {\n",
       "        text-align: right;\n",
       "    }\n",
       "</style>\n",
       "<table border=\"1\" class=\"dataframe\">\n",
       "  <thead>\n",
       "    <tr style=\"text-align: right;\">\n",
       "      <th></th>\n",
       "      <th>student_id</th>\n",
       "      <th>student_name</th>\n",
       "      <th>grade</th>\n",
       "      <th>school_name</th>\n",
       "      <th>reading_score</th>\n",
       "      <th>math_score</th>\n",
       "      <th>school_type</th>\n",
       "    </tr>\n",
       "  </thead>\n",
       "  <tbody>\n",
       "    <tr>\n",
       "      <th>0</th>\n",
       "      <td>127008367</td>\n",
       "      <td>Sarah Douglas</td>\n",
       "      <td>11</td>\n",
       "      <td>Chang High School</td>\n",
       "      <td>87.2</td>\n",
       "      <td>64.1</td>\n",
       "      <td>Public</td>\n",
       "    </tr>\n",
       "    <tr>\n",
       "      <th>2</th>\n",
       "      <td>44359500</td>\n",
       "      <td>Ryan Haas</td>\n",
       "      <td>12</td>\n",
       "      <td>Campbell High School</td>\n",
       "      <td>91.6</td>\n",
       "      <td>54.7</td>\n",
       "      <td>Public</td>\n",
       "    </tr>\n",
       "    <tr>\n",
       "      <th>4</th>\n",
       "      <td>121467881</td>\n",
       "      <td>Harold Reynolds</td>\n",
       "      <td>12</td>\n",
       "      <td>Chang High School</td>\n",
       "      <td>68.7</td>\n",
       "      <td>43.4</td>\n",
       "      <td>Public</td>\n",
       "    </tr>\n",
       "    <tr>\n",
       "      <th>5</th>\n",
       "      <td>79397676</td>\n",
       "      <td>Kyle Brooks</td>\n",
       "      <td>9</td>\n",
       "      <td>Turner High School</td>\n",
       "      <td>72.6</td>\n",
       "      <td>55.4</td>\n",
       "      <td>Public</td>\n",
       "    </tr>\n",
       "    <tr>\n",
       "      <th>7</th>\n",
       "      <td>52477762</td>\n",
       "      <td>Tracy Flores</td>\n",
       "      <td>9</td>\n",
       "      <td>Fisher High School</td>\n",
       "      <td>72.0</td>\n",
       "      <td>67.3</td>\n",
       "      <td>Public</td>\n",
       "    </tr>\n",
       "    <tr>\n",
       "      <th>...</th>\n",
       "      <td>...</td>\n",
       "      <td>...</td>\n",
       "      <td>...</td>\n",
       "      <td>...</td>\n",
       "      <td>...</td>\n",
       "      <td>...</td>\n",
       "      <td>...</td>\n",
       "    </tr>\n",
       "    <tr>\n",
       "      <th>13923</th>\n",
       "      <td>60616803</td>\n",
       "      <td>Sheryl Clarke</td>\n",
       "      <td>11</td>\n",
       "      <td>Fisher High School</td>\n",
       "      <td>84.6</td>\n",
       "      <td>43.7</td>\n",
       "      <td>Public</td>\n",
       "    </tr>\n",
       "    <tr>\n",
       "      <th>13924</th>\n",
       "      <td>56287453</td>\n",
       "      <td>Maria Powell</td>\n",
       "      <td>10</td>\n",
       "      <td>Richard High School</td>\n",
       "      <td>65.6</td>\n",
       "      <td>67.6</td>\n",
       "      <td>Charter</td>\n",
       "    </tr>\n",
       "    <tr>\n",
       "      <th>13929</th>\n",
       "      <td>128983164</td>\n",
       "      <td>Jeffery Moore</td>\n",
       "      <td>10</td>\n",
       "      <td>Campbell High School</td>\n",
       "      <td>96.5</td>\n",
       "      <td>48.1</td>\n",
       "      <td>Public</td>\n",
       "    </tr>\n",
       "    <tr>\n",
       "      <th>13932</th>\n",
       "      <td>126977198</td>\n",
       "      <td>Cindy Thomas</td>\n",
       "      <td>9</td>\n",
       "      <td>Fisher High School</td>\n",
       "      <td>89.1</td>\n",
       "      <td>61.1</td>\n",
       "      <td>Public</td>\n",
       "    </tr>\n",
       "    <tr>\n",
       "      <th>13935</th>\n",
       "      <td>32277979</td>\n",
       "      <td>Kelly Myers</td>\n",
       "      <td>10</td>\n",
       "      <td>Sullivan High School</td>\n",
       "      <td>62.3</td>\n",
       "      <td>37.9</td>\n",
       "      <td>Public</td>\n",
       "    </tr>\n",
       "  </tbody>\n",
       "</table>\n",
       "<p>6459 rows × 7 columns</p>\n",
       "</div>"
      ],
      "text/plain": [
       "       student_id     student_name  grade           school_name  \\\n",
       "0       127008367    Sarah Douglas     11     Chang High School   \n",
       "2        44359500        Ryan Haas     12  Campbell High School   \n",
       "4       121467881  Harold Reynolds     12     Chang High School   \n",
       "5        79397676      Kyle Brooks      9    Turner High School   \n",
       "7        52477762     Tracy Flores      9    Fisher High School   \n",
       "...           ...              ...    ...                   ...   \n",
       "13923    60616803    Sheryl Clarke     11    Fisher High School   \n",
       "13924    56287453     Maria Powell     10   Richard High School   \n",
       "13929   128983164    Jeffery Moore     10  Campbell High School   \n",
       "13932   126977198     Cindy Thomas      9    Fisher High School   \n",
       "13935    32277979      Kelly Myers     10  Sullivan High School   \n",
       "\n",
       "       reading_score  math_score school_type  \n",
       "0               87.2        64.1      Public  \n",
       "2               91.6        54.7      Public  \n",
       "4               68.7        43.4      Public  \n",
       "5               72.6        55.4      Public  \n",
       "7               72.0        67.3      Public  \n",
       "...              ...         ...         ...  \n",
       "13923           84.6        43.7      Public  \n",
       "13924           65.6        67.6     Charter  \n",
       "13929           96.5        48.1      Public  \n",
       "13932           89.1        61.1      Public  \n",
       "13935           62.3        37.9      Public  \n",
       "\n",
       "[6459 rows x 7 columns]"
      ]
     },
     "execution_count": 227,
     "metadata": {},
     "output_type": "execute_result"
    }
   ],
   "source": [
    "student_df.loc[student_df[\"math_score\"] < 70]"
   ]
  },
  {
   "cell_type": "code",
   "execution_count": null,
   "id": "165476e7",
   "metadata": {},
   "outputs": [],
   "source": []
  },
  {
   "cell_type": "code",
   "execution_count": 228,
   "id": "314299ba",
   "metadata": {},
   "outputs": [
    {
     "data": {
      "text/html": [
       "<div>\n",
       "<style scoped>\n",
       "    .dataframe tbody tr th:only-of-type {\n",
       "        vertical-align: middle;\n",
       "    }\n",
       "\n",
       "    .dataframe tbody tr th {\n",
       "        vertical-align: top;\n",
       "    }\n",
       "\n",
       "    .dataframe thead th {\n",
       "        text-align: right;\n",
       "    }\n",
       "</style>\n",
       "<table border=\"1\" class=\"dataframe\">\n",
       "  <thead>\n",
       "    <tr style=\"text-align: right;\">\n",
       "      <th></th>\n",
       "      <th>item</th>\n",
       "      <th>store</th>\n",
       "      <th>quantity</th>\n",
       "      <th>total_price</th>\n",
       "    </tr>\n",
       "  </thead>\n",
       "  <tbody>\n",
       "    <tr>\n",
       "      <th>0</th>\n",
       "      <td>tomatoes</td>\n",
       "      <td>Downtown</td>\n",
       "      <td>15</td>\n",
       "      <td>50.25</td>\n",
       "    </tr>\n",
       "    <tr>\n",
       "      <th>1</th>\n",
       "      <td>onions</td>\n",
       "      <td>Downtown</td>\n",
       "      <td>26</td>\n",
       "      <td>39.52</td>\n",
       "    </tr>\n",
       "    <tr>\n",
       "      <th>2</th>\n",
       "      <td>potatoes</td>\n",
       "      <td>Midtown</td>\n",
       "      <td>10</td>\n",
       "      <td>50.10</td>\n",
       "    </tr>\n",
       "    <tr>\n",
       "      <th>3</th>\n",
       "      <td>tomatoes</td>\n",
       "      <td>Midtown</td>\n",
       "      <td>12</td>\n",
       "      <td>40.20</td>\n",
       "    </tr>\n",
       "    <tr>\n",
       "      <th>4</th>\n",
       "      <td>mushrooms</td>\n",
       "      <td>Downtown</td>\n",
       "      <td>2</td>\n",
       "      <td>8.46</td>\n",
       "    </tr>\n",
       "    <tr>\n",
       "      <th>5</th>\n",
       "      <td>potatoes</td>\n",
       "      <td>Midtown</td>\n",
       "      <td>3</td>\n",
       "      <td>15.03</td>\n",
       "    </tr>\n",
       "    <tr>\n",
       "      <th>6</th>\n",
       "      <td>onions</td>\n",
       "      <td>Downtown</td>\n",
       "      <td>17</td>\n",
       "      <td>25.84</td>\n",
       "    </tr>\n",
       "    <tr>\n",
       "      <th>7</th>\n",
       "      <td>tomatoes</td>\n",
       "      <td>Midtown</td>\n",
       "      <td>16</td>\n",
       "      <td>53.60</td>\n",
       "    </tr>\n",
       "    <tr>\n",
       "      <th>8</th>\n",
       "      <td>onions</td>\n",
       "      <td>Midtown</td>\n",
       "      <td>20</td>\n",
       "      <td>30.40</td>\n",
       "    </tr>\n",
       "    <tr>\n",
       "      <th>9</th>\n",
       "      <td>tomatoes</td>\n",
       "      <td>Midtown</td>\n",
       "      <td>9</td>\n",
       "      <td>30.15</td>\n",
       "    </tr>\n",
       "  </tbody>\n",
       "</table>\n",
       "</div>"
      ],
      "text/plain": [
       "        item     store  quantity  total_price\n",
       "0   tomatoes  Downtown        15        50.25\n",
       "1     onions  Downtown        26        39.52\n",
       "2   potatoes   Midtown        10        50.10\n",
       "3   tomatoes   Midtown        12        40.20\n",
       "4  mushrooms  Downtown         2         8.46\n",
       "5   potatoes   Midtown         3        15.03\n",
       "6     onions  Downtown        17        25.84\n",
       "7   tomatoes   Midtown        16        53.60\n",
       "8     onions   Midtown        20        30.40\n",
       "9   tomatoes   Midtown         9        30.15"
      ]
     },
     "execution_count": 228,
     "metadata": {},
     "output_type": "execute_result"
    }
   ],
   "source": [
    "sales_df = pd.DataFrame({\n",
    "    \"item\": [\"tomatoes\", \"onions\", \"potatoes\", \"tomatoes\", \"mushrooms\", \"potatoes\", \"onions\", \"tomatoes\", \"onions\", \"tomatoes\"],\n",
    "    \"store\": [\"Downtown\", \"Downtown\", \"Midtown\", \"Midtown\", \"Downtown\", \"Midtown\", \"Downtown\", \"Midtown\", \"Midtown\", \"Midtown\"],\n",
    "    \"quantity\": [15, 26, 10, 12, 2, 3, 17, 16, 20, 9],\n",
    "    \"total_price\": [50.25, 39.52, 50.10, 40.20, 8.46, 15.03, 25.84, 53.60, 30.40, 30.15]})\n",
    "sales_df"
   ]
  },
  {
   "cell_type": "markdown",
   "id": "fc771241",
   "metadata": {},
   "source": [
    "# a column we want to use for grouping should contain repeated values, for example the item or store column above@!!"
   ]
  },
  {
   "cell_type": "code",
   "execution_count": 229,
   "id": "89302364",
   "metadata": {},
   "outputs": [],
   "source": [
    "item_grouping = sales_df.groupby(\"item\")"
   ]
  },
  {
   "cell_type": "code",
   "execution_count": 230,
   "id": "1a565f7b",
   "metadata": {},
   "outputs": [
    {
     "data": {
      "text/plain": [
       "<pandas.core.groupby.generic.DataFrameGroupBy object at 0x7fad10022fd0>"
      ]
     },
     "execution_count": 230,
     "metadata": {},
     "output_type": "execute_result"
    }
   ],
   "source": [
    "item_grouping"
   ]
  },
  {
   "cell_type": "code",
   "execution_count": 238,
   "id": "9810187c",
   "metadata": {},
   "outputs": [
    {
     "name": "stderr",
     "output_type": "stream",
     "text": [
      "/var/folders/9m/xp265wv97bl6mhlqzr9f1wcr0000gn/T/ipykernel_68652/462999870.py:1: FutureWarning: The default value of numeric_only in DataFrameGroupBy.mean is deprecated. In a future version, numeric_only will default to False. Either specify numeric_only or select only columns which should be valid for the function.\n",
      "  item_grouping.mean()\n"
     ]
    },
    {
     "data": {
      "text/html": [
       "<div>\n",
       "<style scoped>\n",
       "    .dataframe tbody tr th:only-of-type {\n",
       "        vertical-align: middle;\n",
       "    }\n",
       "\n",
       "    .dataframe tbody tr th {\n",
       "        vertical-align: top;\n",
       "    }\n",
       "\n",
       "    .dataframe thead th {\n",
       "        text-align: right;\n",
       "    }\n",
       "</style>\n",
       "<table border=\"1\" class=\"dataframe\">\n",
       "  <thead>\n",
       "    <tr style=\"text-align: right;\">\n",
       "      <th></th>\n",
       "      <th>quantity</th>\n",
       "      <th>total_price</th>\n",
       "    </tr>\n",
       "    <tr>\n",
       "      <th>item</th>\n",
       "      <th></th>\n",
       "      <th></th>\n",
       "    </tr>\n",
       "  </thead>\n",
       "  <tbody>\n",
       "    <tr>\n",
       "      <th>mushrooms</th>\n",
       "      <td>2.0</td>\n",
       "      <td>8.460</td>\n",
       "    </tr>\n",
       "    <tr>\n",
       "      <th>onions</th>\n",
       "      <td>21.0</td>\n",
       "      <td>31.920</td>\n",
       "    </tr>\n",
       "    <tr>\n",
       "      <th>potatoes</th>\n",
       "      <td>6.5</td>\n",
       "      <td>32.565</td>\n",
       "    </tr>\n",
       "    <tr>\n",
       "      <th>tomatoes</th>\n",
       "      <td>13.0</td>\n",
       "      <td>43.550</td>\n",
       "    </tr>\n",
       "  </tbody>\n",
       "</table>\n",
       "</div>"
      ],
      "text/plain": [
       "           quantity  total_price\n",
       "item                            \n",
       "mushrooms       2.0        8.460\n",
       "onions         21.0       31.920\n",
       "potatoes        6.5       32.565\n",
       "tomatoes       13.0       43.550"
      ]
     },
     "execution_count": 238,
     "metadata": {},
     "output_type": "execute_result"
    }
   ],
   "source": [
    "item_grouping.mean()"
   ]
  },
  {
   "cell_type": "code",
   "execution_count": 240,
   "id": "db2ee961",
   "metadata": {},
   "outputs": [],
   "source": [
    "item_and_store_grouping = sales_df.groupby([\"item\" , \"store\"])"
   ]
  },
  {
   "cell_type": "code",
   "execution_count": 242,
   "id": "6890a7be",
   "metadata": {},
   "outputs": [
    {
     "data": {
      "text/html": [
       "<div>\n",
       "<style scoped>\n",
       "    .dataframe tbody tr th:only-of-type {\n",
       "        vertical-align: middle;\n",
       "    }\n",
       "\n",
       "    .dataframe tbody tr th {\n",
       "        vertical-align: top;\n",
       "    }\n",
       "\n",
       "    .dataframe thead th {\n",
       "        text-align: right;\n",
       "    }\n",
       "</style>\n",
       "<table border=\"1\" class=\"dataframe\">\n",
       "  <thead>\n",
       "    <tr style=\"text-align: right;\">\n",
       "      <th></th>\n",
       "      <th></th>\n",
       "      <th>quantity</th>\n",
       "      <th>total_price</th>\n",
       "    </tr>\n",
       "    <tr>\n",
       "      <th>item</th>\n",
       "      <th>store</th>\n",
       "      <th></th>\n",
       "      <th></th>\n",
       "    </tr>\n",
       "  </thead>\n",
       "  <tbody>\n",
       "    <tr>\n",
       "      <th>mushrooms</th>\n",
       "      <th>Downtown</th>\n",
       "      <td>2</td>\n",
       "      <td>8.46</td>\n",
       "    </tr>\n",
       "    <tr>\n",
       "      <th rowspan=\"2\" valign=\"top\">onions</th>\n",
       "      <th>Downtown</th>\n",
       "      <td>43</td>\n",
       "      <td>65.36</td>\n",
       "    </tr>\n",
       "    <tr>\n",
       "      <th>Midtown</th>\n",
       "      <td>20</td>\n",
       "      <td>30.40</td>\n",
       "    </tr>\n",
       "    <tr>\n",
       "      <th>potatoes</th>\n",
       "      <th>Midtown</th>\n",
       "      <td>13</td>\n",
       "      <td>65.13</td>\n",
       "    </tr>\n",
       "    <tr>\n",
       "      <th rowspan=\"2\" valign=\"top\">tomatoes</th>\n",
       "      <th>Downtown</th>\n",
       "      <td>15</td>\n",
       "      <td>50.25</td>\n",
       "    </tr>\n",
       "    <tr>\n",
       "      <th>Midtown</th>\n",
       "      <td>37</td>\n",
       "      <td>123.95</td>\n",
       "    </tr>\n",
       "  </tbody>\n",
       "</table>\n",
       "</div>"
      ],
      "text/plain": [
       "                    quantity  total_price\n",
       "item      store                          \n",
       "mushrooms Downtown         2         8.46\n",
       "onions    Downtown        43        65.36\n",
       "          Midtown         20        30.40\n",
       "potatoes  Midtown         13        65.13\n",
       "tomatoes  Downtown        15        50.25\n",
       "          Midtown         37       123.95"
      ]
     },
     "execution_count": 242,
     "metadata": {},
     "output_type": "execute_result"
    }
   ],
   "source": [
    "item_and_store_grouping.sum()"
   ]
  },
  {
   "cell_type": "code",
   "execution_count": null,
   "id": "0ebc23a6",
   "metadata": {},
   "outputs": [],
   "source": []
  },
  {
   "cell_type": "code",
   "execution_count": 243,
   "id": "ce2597fc",
   "metadata": {},
   "outputs": [
    {
     "data": {
      "text/html": [
       "<div>\n",
       "<style scoped>\n",
       "    .dataframe tbody tr th:only-of-type {\n",
       "        vertical-align: middle;\n",
       "    }\n",
       "\n",
       "    .dataframe tbody tr th {\n",
       "        vertical-align: top;\n",
       "    }\n",
       "\n",
       "    .dataframe thead th {\n",
       "        text-align: right;\n",
       "    }\n",
       "</style>\n",
       "<table border=\"1\" class=\"dataframe\">\n",
       "  <thead>\n",
       "    <tr style=\"text-align: right;\">\n",
       "      <th></th>\n",
       "      <th>student_id</th>\n",
       "      <th>student_name</th>\n",
       "      <th>grade</th>\n",
       "      <th>school_name</th>\n",
       "      <th>reading_score</th>\n",
       "      <th>math_score</th>\n",
       "      <th>school_type</th>\n",
       "    </tr>\n",
       "  </thead>\n",
       "  <tbody>\n",
       "    <tr>\n",
       "      <th>0</th>\n",
       "      <td>127008367</td>\n",
       "      <td>Sarah Douglas</td>\n",
       "      <td>11</td>\n",
       "      <td>Chang High School</td>\n",
       "      <td>87.2</td>\n",
       "      <td>64.1</td>\n",
       "      <td>Public</td>\n",
       "    </tr>\n",
       "    <tr>\n",
       "      <th>2</th>\n",
       "      <td>44359500</td>\n",
       "      <td>Ryan Haas</td>\n",
       "      <td>12</td>\n",
       "      <td>Campbell High School</td>\n",
       "      <td>91.6</td>\n",
       "      <td>54.7</td>\n",
       "      <td>Public</td>\n",
       "    </tr>\n",
       "    <tr>\n",
       "      <th>3</th>\n",
       "      <td>24791243</td>\n",
       "      <td>Kathryn Mack</td>\n",
       "      <td>11</td>\n",
       "      <td>Richard High School</td>\n",
       "      <td>68.9</td>\n",
       "      <td>73.3</td>\n",
       "      <td>Charter</td>\n",
       "    </tr>\n",
       "    <tr>\n",
       "      <th>4</th>\n",
       "      <td>121467881</td>\n",
       "      <td>Harold Reynolds</td>\n",
       "      <td>12</td>\n",
       "      <td>Chang High School</td>\n",
       "      <td>68.7</td>\n",
       "      <td>43.4</td>\n",
       "      <td>Public</td>\n",
       "    </tr>\n",
       "    <tr>\n",
       "      <th>5</th>\n",
       "      <td>79397676</td>\n",
       "      <td>Kyle Brooks</td>\n",
       "      <td>9</td>\n",
       "      <td>Turner High School</td>\n",
       "      <td>72.6</td>\n",
       "      <td>55.4</td>\n",
       "      <td>Public</td>\n",
       "    </tr>\n",
       "    <tr>\n",
       "      <th>...</th>\n",
       "      <td>...</td>\n",
       "      <td>...</td>\n",
       "      <td>...</td>\n",
       "      <td>...</td>\n",
       "      <td>...</td>\n",
       "      <td>...</td>\n",
       "      <td>...</td>\n",
       "    </tr>\n",
       "    <tr>\n",
       "      <th>13935</th>\n",
       "      <td>32277979</td>\n",
       "      <td>Kelly Myers</td>\n",
       "      <td>10</td>\n",
       "      <td>Sullivan High School</td>\n",
       "      <td>62.3</td>\n",
       "      <td>37.9</td>\n",
       "      <td>Public</td>\n",
       "    </tr>\n",
       "    <tr>\n",
       "      <th>13936</th>\n",
       "      <td>109412748</td>\n",
       "      <td>Kimberly Burke</td>\n",
       "      <td>10</td>\n",
       "      <td>Montgomery High School</td>\n",
       "      <td>99.5</td>\n",
       "      <td>89.8</td>\n",
       "      <td>Public</td>\n",
       "    </tr>\n",
       "    <tr>\n",
       "      <th>13937</th>\n",
       "      <td>16856426</td>\n",
       "      <td>Crystal Merritt</td>\n",
       "      <td>9</td>\n",
       "      <td>Turner High School</td>\n",
       "      <td>86.3</td>\n",
       "      <td>71.1</td>\n",
       "      <td>Public</td>\n",
       "    </tr>\n",
       "    <tr>\n",
       "      <th>13938</th>\n",
       "      <td>88213835</td>\n",
       "      <td>Misty Wiggins</td>\n",
       "      <td>10</td>\n",
       "      <td>Fisher High School</td>\n",
       "      <td>75.4</td>\n",
       "      <td>76.4</td>\n",
       "      <td>Public</td>\n",
       "    </tr>\n",
       "    <tr>\n",
       "      <th>13939</th>\n",
       "      <td>12153644</td>\n",
       "      <td>Michele Jones</td>\n",
       "      <td>11</td>\n",
       "      <td>Chang High School</td>\n",
       "      <td>69.0</td>\n",
       "      <td>72.4</td>\n",
       "      <td>Public</td>\n",
       "    </tr>\n",
       "  </tbody>\n",
       "</table>\n",
       "<p>10604 rows × 7 columns</p>\n",
       "</div>"
      ],
      "text/plain": [
       "       student_id     student_name  grade             school_name  \\\n",
       "0       127008367    Sarah Douglas     11       Chang High School   \n",
       "2        44359500        Ryan Haas     12    Campbell High School   \n",
       "3        24791243     Kathryn Mack     11     Richard High School   \n",
       "4       121467881  Harold Reynolds     12       Chang High School   \n",
       "5        79397676      Kyle Brooks      9      Turner High School   \n",
       "...           ...              ...    ...                     ...   \n",
       "13935    32277979      Kelly Myers     10    Sullivan High School   \n",
       "13936   109412748   Kimberly Burke     10  Montgomery High School   \n",
       "13937    16856426  Crystal Merritt      9      Turner High School   \n",
       "13938    88213835    Misty Wiggins     10      Fisher High School   \n",
       "13939    12153644    Michele Jones     11       Chang High School   \n",
       "\n",
       "       reading_score  math_score school_type  \n",
       "0               87.2        64.1      Public  \n",
       "2               91.6        54.7      Public  \n",
       "3               68.9        73.3     Charter  \n",
       "4               68.7        43.4      Public  \n",
       "5               72.6        55.4      Public  \n",
       "...              ...         ...         ...  \n",
       "13935           62.3        37.9      Public  \n",
       "13936           99.5        89.8      Public  \n",
       "13937           86.3        71.1      Public  \n",
       "13938           75.4        76.4      Public  \n",
       "13939           69.0        72.4      Public  \n",
       "\n",
       "[10604 rows x 7 columns]"
      ]
     },
     "execution_count": 243,
     "metadata": {},
     "output_type": "execute_result"
    }
   ],
   "source": [
    "student_df"
   ]
  },
  {
   "cell_type": "code",
   "execution_count": 248,
   "id": "66eb9145",
   "metadata": {},
   "outputs": [
    {
     "name": "stderr",
     "output_type": "stream",
     "text": [
      "/var/folders/9m/xp265wv97bl6mhlqzr9f1wcr0000gn/T/ipykernel_68652/1678683937.py:1: FutureWarning: The default value of numeric_only in DataFrameGroupBy.mean is deprecated. In a future version, numeric_only will default to False. Either specify numeric_only or select only columns which should be valid for the function.\n",
      "  avg_student_scores_by_grade = student_df.groupby(\"grade\").mean()\n"
     ]
    }
   ],
   "source": [
    "avg_student_scores_by_grade = student_df.groupby(\"grade\").mean()"
   ]
  },
  {
   "cell_type": "code",
   "execution_count": 249,
   "id": "4847f2b4",
   "metadata": {},
   "outputs": [
    {
     "data": {
      "text/html": [
       "<div>\n",
       "<style scoped>\n",
       "    .dataframe tbody tr th:only-of-type {\n",
       "        vertical-align: middle;\n",
       "    }\n",
       "\n",
       "    .dataframe tbody tr th {\n",
       "        vertical-align: top;\n",
       "    }\n",
       "\n",
       "    .dataframe thead th {\n",
       "        text-align: right;\n",
       "    }\n",
       "</style>\n",
       "<table border=\"1\" class=\"dataframe\">\n",
       "  <thead>\n",
       "    <tr style=\"text-align: right;\">\n",
       "      <th></th>\n",
       "      <th>math_score</th>\n",
       "      <th>reading_score</th>\n",
       "    </tr>\n",
       "    <tr>\n",
       "      <th>grade</th>\n",
       "      <th></th>\n",
       "      <th></th>\n",
       "    </tr>\n",
       "  </thead>\n",
       "  <tbody>\n",
       "    <tr>\n",
       "      <th>9</th>\n",
       "      <td>68.821676</td>\n",
       "      <td>77.796027</td>\n",
       "    </tr>\n",
       "    <tr>\n",
       "      <th>10</th>\n",
       "      <td>65.993374</td>\n",
       "      <td>76.351070</td>\n",
       "    </tr>\n",
       "    <tr>\n",
       "      <th>11</th>\n",
       "      <td>61.401434</td>\n",
       "      <td>76.785772</td>\n",
       "    </tr>\n",
       "    <tr>\n",
       "      <th>12</th>\n",
       "      <td>61.804705</td>\n",
       "      <td>70.643235</td>\n",
       "    </tr>\n",
       "  </tbody>\n",
       "</table>\n",
       "</div>"
      ],
      "text/plain": [
       "       math_score  reading_score\n",
       "grade                           \n",
       "9       68.821676      77.796027\n",
       "10      65.993374      76.351070\n",
       "11      61.401434      76.785772\n",
       "12      61.804705      70.643235"
      ]
     },
     "execution_count": 249,
     "metadata": {},
     "output_type": "execute_result"
    }
   ],
   "source": [
    "avg_student_scores_by_grade.loc[:,[\"math_score\" , \"reading_score\"]]"
   ]
  },
  {
   "cell_type": "code",
   "execution_count": 255,
   "id": "2ab997bd",
   "metadata": {},
   "outputs": [
    {
     "data": {
      "text/html": [
       "<div>\n",
       "<style scoped>\n",
       "    .dataframe tbody tr th:only-of-type {\n",
       "        vertical-align: middle;\n",
       "    }\n",
       "\n",
       "    .dataframe tbody tr th {\n",
       "        vertical-align: top;\n",
       "    }\n",
       "\n",
       "    .dataframe thead th {\n",
       "        text-align: right;\n",
       "    }\n",
       "</style>\n",
       "<table border=\"1\" class=\"dataframe\">\n",
       "  <thead>\n",
       "    <tr style=\"text-align: right;\">\n",
       "      <th></th>\n",
       "      <th>math_score</th>\n",
       "      <th>reading_score</th>\n",
       "    </tr>\n",
       "    <tr>\n",
       "      <th>school_name</th>\n",
       "      <th></th>\n",
       "      <th></th>\n",
       "    </tr>\n",
       "  </thead>\n",
       "  <tbody>\n",
       "    <tr>\n",
       "      <th>Green High School</th>\n",
       "      <td>1.4</td>\n",
       "      <td>40.0</td>\n",
       "    </tr>\n",
       "    <tr>\n",
       "      <th>Montgomery High School</th>\n",
       "      <td>5.6</td>\n",
       "      <td>27.3</td>\n",
       "    </tr>\n",
       "    <tr>\n",
       "      <th>Bowers High School</th>\n",
       "      <td>9.4</td>\n",
       "      <td>16.6</td>\n",
       "    </tr>\n",
       "    <tr>\n",
       "      <th>Turner High School</th>\n",
       "      <td>9.6</td>\n",
       "      <td>23.4</td>\n",
       "    </tr>\n",
       "    <tr>\n",
       "      <th>Campos High School</th>\n",
       "      <td>10.0</td>\n",
       "      <td>34.0</td>\n",
       "    </tr>\n",
       "    <tr>\n",
       "      <th>Fisher High School</th>\n",
       "      <td>11.0</td>\n",
       "      <td>11.4</td>\n",
       "    </tr>\n",
       "    <tr>\n",
       "      <th>Chang High School</th>\n",
       "      <td>15.1</td>\n",
       "      <td>33.8</td>\n",
       "    </tr>\n",
       "    <tr>\n",
       "      <th>Odonnell High School</th>\n",
       "      <td>16.5</td>\n",
       "      <td>24.4</td>\n",
       "    </tr>\n",
       "    <tr>\n",
       "      <th>Richard High School</th>\n",
       "      <td>16.9</td>\n",
       "      <td>9.5</td>\n",
       "    </tr>\n",
       "    <tr>\n",
       "      <th>Woods High School</th>\n",
       "      <td>16.9</td>\n",
       "      <td>19.9</td>\n",
       "    </tr>\n",
       "    <tr>\n",
       "      <th>Wagner High School</th>\n",
       "      <td>18.1</td>\n",
       "      <td>22.5</td>\n",
       "    </tr>\n",
       "    <tr>\n",
       "      <th>Campbell High School</th>\n",
       "      <td>18.3</td>\n",
       "      <td>30.8</td>\n",
       "    </tr>\n",
       "    <tr>\n",
       "      <th>Sullivan High School</th>\n",
       "      <td>23.0</td>\n",
       "      <td>29.9</td>\n",
       "    </tr>\n",
       "    <tr>\n",
       "      <th>Silva High School</th>\n",
       "      <td>24.5</td>\n",
       "      <td>28.0</td>\n",
       "    </tr>\n",
       "    <tr>\n",
       "      <th>Dixon High School</th>\n",
       "      <td>24.7</td>\n",
       "      <td>28.7</td>\n",
       "    </tr>\n",
       "  </tbody>\n",
       "</table>\n",
       "</div>"
      ],
      "text/plain": [
       "                        math_score  reading_score\n",
       "school_name                                      \n",
       "Green High School              1.4           40.0\n",
       "Montgomery High School         5.6           27.3\n",
       "Bowers High School             9.4           16.6\n",
       "Turner High School             9.6           23.4\n",
       "Campos High School            10.0           34.0\n",
       "Fisher High School            11.0           11.4\n",
       "Chang High School             15.1           33.8\n",
       "Odonnell High School          16.5           24.4\n",
       "Richard High School           16.9            9.5\n",
       "Woods High School             16.9           19.9\n",
       "Wagner High School            18.1           22.5\n",
       "Campbell High School          18.3           30.8\n",
       "Sullivan High School          23.0           29.9\n",
       "Silva High School             24.5           28.0\n",
       "Dixon High School             24.7           28.7"
      ]
     },
     "execution_count": 255,
     "metadata": {},
     "output_type": "execute_result"
    }
   ],
   "source": [
    "min_scores_by_school = student_df.groupby(\"school_name\").min()\n",
    "min_scores_by_school.loc[:, [\"math_score\", \"reading_score\"]].sort_values(\"math_score\")"
   ]
  },
  {
   "cell_type": "code",
   "execution_count": 258,
   "id": "28d1aea2",
   "metadata": {},
   "outputs": [
    {
     "name": "stderr",
     "output_type": "stream",
     "text": [
      "/var/folders/9m/xp265wv97bl6mhlqzr9f1wcr0000gn/T/ipykernel_68652/2465476676.py:1: FutureWarning: The default value of numeric_only in DataFrameGroupBy.mean is deprecated. In a future version, numeric_only will default to False. Either specify numeric_only or select only columns which should be valid for the function.\n",
      "  name_and_grade = student_df.groupby([\"school_name\" , \"grade\"]).mean()\n"
     ]
    }
   ],
   "source": [
    "name_and_grade = student_df.groupby([\"school_name\" , \"grade\"]).mean()"
   ]
  },
  {
   "cell_type": "code",
   "execution_count": 261,
   "id": "089be7c8",
   "metadata": {},
   "outputs": [
    {
     "data": {
      "text/html": [
       "<div>\n",
       "<style scoped>\n",
       "    .dataframe tbody tr th:only-of-type {\n",
       "        vertical-align: middle;\n",
       "    }\n",
       "\n",
       "    .dataframe tbody tr th {\n",
       "        vertical-align: top;\n",
       "    }\n",
       "\n",
       "    .dataframe thead th {\n",
       "        text-align: right;\n",
       "    }\n",
       "</style>\n",
       "<table border=\"1\" class=\"dataframe\">\n",
       "  <thead>\n",
       "    <tr style=\"text-align: right;\">\n",
       "      <th></th>\n",
       "      <th></th>\n",
       "      <th>math_score</th>\n",
       "      <th>reading_score</th>\n",
       "    </tr>\n",
       "    <tr>\n",
       "      <th>school_name</th>\n",
       "      <th>grade</th>\n",
       "      <th></th>\n",
       "      <th></th>\n",
       "    </tr>\n",
       "  </thead>\n",
       "  <tbody>\n",
       "    <tr>\n",
       "      <th rowspan=\"4\" valign=\"top\">Bowers High School</th>\n",
       "      <th>9</th>\n",
       "      <td>56.534783</td>\n",
       "      <td>63.569565</td>\n",
       "    </tr>\n",
       "    <tr>\n",
       "      <th>10</th>\n",
       "      <td>68.614286</td>\n",
       "      <td>54.842857</td>\n",
       "    </tr>\n",
       "    <tr>\n",
       "      <th>11</th>\n",
       "      <td>68.064072</td>\n",
       "      <td>79.318563</td>\n",
       "    </tr>\n",
       "    <tr>\n",
       "      <th>12</th>\n",
       "      <td>57.414516</td>\n",
       "      <td>76.167742</td>\n",
       "    </tr>\n",
       "    <tr>\n",
       "      <th rowspan=\"4\" valign=\"top\">Campbell High School</th>\n",
       "      <th>9</th>\n",
       "      <td>62.946452</td>\n",
       "      <td>82.093548</td>\n",
       "    </tr>\n",
       "    <tr>\n",
       "      <th>10</th>\n",
       "      <td>71.937363</td>\n",
       "      <td>84.320000</td>\n",
       "    </tr>\n",
       "    <tr>\n",
       "      <th>11</th>\n",
       "      <td>60.250000</td>\n",
       "      <td>74.606522</td>\n",
       "    </tr>\n",
       "    <tr>\n",
       "      <th>12</th>\n",
       "      <td>72.863158</td>\n",
       "      <td>78.269123</td>\n",
       "    </tr>\n",
       "    <tr>\n",
       "      <th rowspan=\"4\" valign=\"top\">Campos High School</th>\n",
       "      <th>9</th>\n",
       "      <td>53.430579</td>\n",
       "      <td>78.045455</td>\n",
       "    </tr>\n",
       "    <tr>\n",
       "      <th>10</th>\n",
       "      <td>72.294771</td>\n",
       "      <td>78.133333</td>\n",
       "    </tr>\n",
       "    <tr>\n",
       "      <th>11</th>\n",
       "      <td>74.769811</td>\n",
       "      <td>71.717610</td>\n",
       "    </tr>\n",
       "    <tr>\n",
       "      <th>12</th>\n",
       "      <td>61.918692</td>\n",
       "      <td>76.108411</td>\n",
       "    </tr>\n",
       "    <tr>\n",
       "      <th rowspan=\"4\" valign=\"top\">Chang High School</th>\n",
       "      <th>9</th>\n",
       "      <td>73.428758</td>\n",
       "      <td>77.488889</td>\n",
       "    </tr>\n",
       "    <tr>\n",
       "      <th>10</th>\n",
       "      <td>74.776923</td>\n",
       "      <td>80.384615</td>\n",
       "    </tr>\n",
       "    <tr>\n",
       "      <th>11</th>\n",
       "      <td>72.307234</td>\n",
       "      <td>83.495745</td>\n",
       "    </tr>\n",
       "    <tr>\n",
       "      <th>12</th>\n",
       "      <td>68.443873</td>\n",
       "      <td>62.273284</td>\n",
       "    </tr>\n",
       "    <tr>\n",
       "      <th rowspan=\"4\" valign=\"top\">Dixon High School</th>\n",
       "      <th>9</th>\n",
       "      <td>42.933333</td>\n",
       "      <td>71.466667</td>\n",
       "    </tr>\n",
       "    <tr>\n",
       "      <th>10</th>\n",
       "      <td>72.900000</td>\n",
       "      <td>64.733333</td>\n",
       "    </tr>\n",
       "    <tr>\n",
       "      <th>11</th>\n",
       "      <td>66.432692</td>\n",
       "      <td>79.303846</td>\n",
       "    </tr>\n",
       "    <tr>\n",
       "      <th>12</th>\n",
       "      <td>57.112500</td>\n",
       "      <td>59.490000</td>\n",
       "    </tr>\n",
       "    <tr>\n",
       "      <th rowspan=\"4\" valign=\"top\">Fisher High School</th>\n",
       "      <th>9</th>\n",
       "      <td>68.167473</td>\n",
       "      <td>78.423656</td>\n",
       "    </tr>\n",
       "    <tr>\n",
       "      <th>10</th>\n",
       "      <td>64.855008</td>\n",
       "      <td>77.884236</td>\n",
       "    </tr>\n",
       "    <tr>\n",
       "      <th>11</th>\n",
       "      <td>49.977091</td>\n",
       "      <td>71.963091</td>\n",
       "    </tr>\n",
       "    <tr>\n",
       "      <th>12</th>\n",
       "      <td>55.148917</td>\n",
       "      <td>79.664440</td>\n",
       "    </tr>\n",
       "    <tr>\n",
       "      <th rowspan=\"4\" valign=\"top\">Green High School</th>\n",
       "      <th>9</th>\n",
       "      <td>68.807759</td>\n",
       "      <td>80.039655</td>\n",
       "    </tr>\n",
       "    <tr>\n",
       "      <th>10</th>\n",
       "      <td>65.611268</td>\n",
       "      <td>68.712676</td>\n",
       "    </tr>\n",
       "    <tr>\n",
       "      <th>11</th>\n",
       "      <td>59.259615</td>\n",
       "      <td>65.779808</td>\n",
       "    </tr>\n",
       "    <tr>\n",
       "      <th>12</th>\n",
       "      <td>51.257746</td>\n",
       "      <td>72.472300</td>\n",
       "    </tr>\n",
       "    <tr>\n",
       "      <th rowspan=\"4\" valign=\"top\">Montgomery High School</th>\n",
       "      <th>9</th>\n",
       "      <td>68.228958</td>\n",
       "      <td>85.130502</td>\n",
       "    </tr>\n",
       "    <tr>\n",
       "      <th>10</th>\n",
       "      <td>55.851613</td>\n",
       "      <td>77.039355</td>\n",
       "    </tr>\n",
       "    <tr>\n",
       "      <th>11</th>\n",
       "      <td>62.853750</td>\n",
       "      <td>72.968750</td>\n",
       "    </tr>\n",
       "    <tr>\n",
       "      <th>12</th>\n",
       "      <td>59.781921</td>\n",
       "      <td>69.677401</td>\n",
       "    </tr>\n",
       "    <tr>\n",
       "      <th rowspan=\"4\" valign=\"top\">Odonnell High School</th>\n",
       "      <th>9</th>\n",
       "      <td>78.393750</td>\n",
       "      <td>69.675000</td>\n",
       "    </tr>\n",
       "    <tr>\n",
       "      <th>10</th>\n",
       "      <td>74.369048</td>\n",
       "      <td>68.807143</td>\n",
       "    </tr>\n",
       "    <tr>\n",
       "      <th>11</th>\n",
       "      <td>59.073810</td>\n",
       "      <td>67.228571</td>\n",
       "    </tr>\n",
       "    <tr>\n",
       "      <th>12</th>\n",
       "      <td>58.335714</td>\n",
       "      <td>63.183333</td>\n",
       "    </tr>\n",
       "    <tr>\n",
       "      <th rowspan=\"4\" valign=\"top\">Richard High School</th>\n",
       "      <th>9</th>\n",
       "      <td>50.852326</td>\n",
       "      <td>67.843605</td>\n",
       "    </tr>\n",
       "    <tr>\n",
       "      <th>10</th>\n",
       "      <td>53.814737</td>\n",
       "      <td>67.041754</td>\n",
       "    </tr>\n",
       "    <tr>\n",
       "      <th>11</th>\n",
       "      <td>61.798827</td>\n",
       "      <td>79.331965</td>\n",
       "    </tr>\n",
       "    <tr>\n",
       "      <th>12</th>\n",
       "      <td>73.511480</td>\n",
       "      <td>70.308157</td>\n",
       "    </tr>\n",
       "    <tr>\n",
       "      <th rowspan=\"4\" valign=\"top\">Silva High School</th>\n",
       "      <th>9</th>\n",
       "      <td>70.381159</td>\n",
       "      <td>81.471014</td>\n",
       "    </tr>\n",
       "    <tr>\n",
       "      <th>10</th>\n",
       "      <td>76.554167</td>\n",
       "      <td>74.127083</td>\n",
       "    </tr>\n",
       "    <tr>\n",
       "      <th>11</th>\n",
       "      <td>73.212565</td>\n",
       "      <td>82.582723</td>\n",
       "    </tr>\n",
       "    <tr>\n",
       "      <th>12</th>\n",
       "      <td>74.552427</td>\n",
       "      <td>61.339806</td>\n",
       "    </tr>\n",
       "    <tr>\n",
       "      <th rowspan=\"4\" valign=\"top\">Sullivan High School</th>\n",
       "      <th>9</th>\n",
       "      <td>54.600000</td>\n",
       "      <td>76.305556</td>\n",
       "    </tr>\n",
       "    <tr>\n",
       "      <th>10</th>\n",
       "      <td>53.416327</td>\n",
       "      <td>77.916327</td>\n",
       "    </tr>\n",
       "    <tr>\n",
       "      <th>11</th>\n",
       "      <td>53.762500</td>\n",
       "      <td>71.356250</td>\n",
       "    </tr>\n",
       "    <tr>\n",
       "      <th>12</th>\n",
       "      <td>60.461290</td>\n",
       "      <td>72.003226</td>\n",
       "    </tr>\n",
       "    <tr>\n",
       "      <th rowspan=\"4\" valign=\"top\">Turner High School</th>\n",
       "      <th>9</th>\n",
       "      <td>76.776374</td>\n",
       "      <td>77.295742</td>\n",
       "    </tr>\n",
       "    <tr>\n",
       "      <th>10</th>\n",
       "      <td>68.037047</td>\n",
       "      <td>74.544041</td>\n",
       "    </tr>\n",
       "    <tr>\n",
       "      <th>11</th>\n",
       "      <td>57.217886</td>\n",
       "      <td>79.630407</td>\n",
       "    </tr>\n",
       "    <tr>\n",
       "      <th>12</th>\n",
       "      <td>52.550384</td>\n",
       "      <td>59.802302</td>\n",
       "    </tr>\n",
       "    <tr>\n",
       "      <th rowspan=\"4\" valign=\"top\">Wagner High School</th>\n",
       "      <th>9</th>\n",
       "      <td>74.947000</td>\n",
       "      <td>75.595000</td>\n",
       "    </tr>\n",
       "    <tr>\n",
       "      <th>10</th>\n",
       "      <td>73.550000</td>\n",
       "      <td>79.750000</td>\n",
       "    </tr>\n",
       "    <tr>\n",
       "      <th>11</th>\n",
       "      <td>70.288889</td>\n",
       "      <td>69.874444</td>\n",
       "    </tr>\n",
       "    <tr>\n",
       "      <th>12</th>\n",
       "      <td>69.295652</td>\n",
       "      <td>79.786957</td>\n",
       "    </tr>\n",
       "    <tr>\n",
       "      <th rowspan=\"4\" valign=\"top\">Woods High School</th>\n",
       "      <th>9</th>\n",
       "      <td>54.579167</td>\n",
       "      <td>69.535417</td>\n",
       "    </tr>\n",
       "    <tr>\n",
       "      <th>10</th>\n",
       "      <td>68.420000</td>\n",
       "      <td>71.240000</td>\n",
       "    </tr>\n",
       "    <tr>\n",
       "      <th>11</th>\n",
       "      <td>60.831250</td>\n",
       "      <td>85.009375</td>\n",
       "    </tr>\n",
       "    <tr>\n",
       "      <th>12</th>\n",
       "      <td>55.566667</td>\n",
       "      <td>81.490476</td>\n",
       "    </tr>\n",
       "  </tbody>\n",
       "</table>\n",
       "</div>"
      ],
      "text/plain": [
       "                              math_score  reading_score\n",
       "school_name            grade                           \n",
       "Bowers High School     9       56.534783      63.569565\n",
       "                       10      68.614286      54.842857\n",
       "                       11      68.064072      79.318563\n",
       "                       12      57.414516      76.167742\n",
       "Campbell High School   9       62.946452      82.093548\n",
       "                       10      71.937363      84.320000\n",
       "                       11      60.250000      74.606522\n",
       "                       12      72.863158      78.269123\n",
       "Campos High School     9       53.430579      78.045455\n",
       "                       10      72.294771      78.133333\n",
       "                       11      74.769811      71.717610\n",
       "                       12      61.918692      76.108411\n",
       "Chang High School      9       73.428758      77.488889\n",
       "                       10      74.776923      80.384615\n",
       "                       11      72.307234      83.495745\n",
       "                       12      68.443873      62.273284\n",
       "Dixon High School      9       42.933333      71.466667\n",
       "                       10      72.900000      64.733333\n",
       "                       11      66.432692      79.303846\n",
       "                       12      57.112500      59.490000\n",
       "Fisher High School     9       68.167473      78.423656\n",
       "                       10      64.855008      77.884236\n",
       "                       11      49.977091      71.963091\n",
       "                       12      55.148917      79.664440\n",
       "Green High School      9       68.807759      80.039655\n",
       "                       10      65.611268      68.712676\n",
       "                       11      59.259615      65.779808\n",
       "                       12      51.257746      72.472300\n",
       "Montgomery High School 9       68.228958      85.130502\n",
       "                       10      55.851613      77.039355\n",
       "                       11      62.853750      72.968750\n",
       "                       12      59.781921      69.677401\n",
       "Odonnell High School   9       78.393750      69.675000\n",
       "                       10      74.369048      68.807143\n",
       "                       11      59.073810      67.228571\n",
       "                       12      58.335714      63.183333\n",
       "Richard High School    9       50.852326      67.843605\n",
       "                       10      53.814737      67.041754\n",
       "                       11      61.798827      79.331965\n",
       "                       12      73.511480      70.308157\n",
       "Silva High School      9       70.381159      81.471014\n",
       "                       10      76.554167      74.127083\n",
       "                       11      73.212565      82.582723\n",
       "                       12      74.552427      61.339806\n",
       "Sullivan High School   9       54.600000      76.305556\n",
       "                       10      53.416327      77.916327\n",
       "                       11      53.762500      71.356250\n",
       "                       12      60.461290      72.003226\n",
       "Turner High School     9       76.776374      77.295742\n",
       "                       10      68.037047      74.544041\n",
       "                       11      57.217886      79.630407\n",
       "                       12      52.550384      59.802302\n",
       "Wagner High School     9       74.947000      75.595000\n",
       "                       10      73.550000      79.750000\n",
       "                       11      70.288889      69.874444\n",
       "                       12      69.295652      79.786957\n",
       "Woods High School      9       54.579167      69.535417\n",
       "                       10      68.420000      71.240000\n",
       "                       11      60.831250      85.009375\n",
       "                       12      55.566667      81.490476"
      ]
     },
     "execution_count": 261,
     "metadata": {},
     "output_type": "execute_result"
    }
   ],
   "source": [
    "name_and_grade.loc[:,[\"math_score\" , \"reading_score\"]]"
   ]
  },
  {
   "cell_type": "code",
   "execution_count": null,
   "id": "653b7d34",
   "metadata": {},
   "outputs": [],
   "source": []
  }
 ],
 "metadata": {
  "kernelspec": {
   "display_name": "PythonData",
   "language": "python",
   "name": "pythondata"
  },
  "language_info": {
   "codemirror_mode": {
    "name": "ipython",
    "version": 3
   },
   "file_extension": ".py",
   "mimetype": "text/x-python",
   "name": "python",
   "nbconvert_exporter": "python",
   "pygments_lexer": "ipython3",
   "version": "3.9.15"
  }
 },
 "nbformat": 4,
 "nbformat_minor": 5
}
